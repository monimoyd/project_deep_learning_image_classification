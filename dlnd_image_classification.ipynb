{
 "cells": [
  {
   "cell_type": "markdown",
   "metadata": {
    "collapsed": true
   },
   "source": [
    "# Image Classification\n",
    "In this project, you'll classify images from the [CIFAR-10 dataset](https://www.cs.toronto.edu/~kriz/cifar.html).  The dataset consists of airplanes, dogs, cats, and other objects. You'll preprocess the images, then train a convolutional neural network on all the samples. The images need to be normalized and the labels need to be one-hot encoded.  You'll get to apply what you learned and build a convolutional, max pooling, dropout, and fully connected layers.  At the end, you'll get to see your neural network's predictions on the sample images.\n",
    "## Get the Data\n",
    "Run the following cell to download the [CIFAR-10 dataset for python](https://www.cs.toronto.edu/~kriz/cifar-10-python.tar.gz)."
   ]
  },
  {
   "cell_type": "code",
   "execution_count": 65,
   "metadata": {},
   "outputs": [
    {
     "name": "stdout",
     "output_type": "stream",
     "text": [
      "All files found!\n"
     ]
    }
   ],
   "source": [
    "\"\"\"\n",
    "DON'T MODIFY ANYTHING IN THIS CELL THAT IS BELOW THIS LINE\n",
    "\"\"\"\n",
    "from urllib.request import urlretrieve\n",
    "from os.path import isfile, isdir\n",
    "from tqdm import tqdm\n",
    "import problem_unittests as tests\n",
    "import tarfile\n",
    "\n",
    "cifar10_dataset_folder_path = 'cifar-10-batches-py'\n",
    "\n",
    "# Use Floyd's cifar-10 dataset if present\n",
    "floyd_cifar10_location = '/cifar/cifar-10-python.tar.gz'\n",
    "if isfile(floyd_cifar10_location):\n",
    "    tar_gz_path = floyd_cifar10_location\n",
    "else:\n",
    "    tar_gz_path = 'cifar-10-python.tar.gz'\n",
    "\n",
    "class DLProgress(tqdm):\n",
    "    last_block = 0\n",
    "\n",
    "    def hook(self, block_num=1, block_size=1, total_size=None):\n",
    "        self.total = total_size\n",
    "        self.update((block_num - self.last_block) * block_size)\n",
    "        self.last_block = block_num\n",
    "\n",
    "if not isfile(tar_gz_path):\n",
    "    with DLProgress(unit='B', unit_scale=True, miniters=1, desc='CIFAR-10 Dataset') as pbar:\n",
    "        urlretrieve(\n",
    "            'https://www.cs.toronto.edu/~kriz/cifar-10-python.tar.gz',\n",
    "            tar_gz_path,\n",
    "            pbar.hook)\n",
    "\n",
    "if not isdir(cifar10_dataset_folder_path):\n",
    "    with tarfile.open(tar_gz_path) as tar:\n",
    "        tar.extractall()\n",
    "        tar.close()\n",
    "\n",
    "\n",
    "tests.test_folder_path(cifar10_dataset_folder_path)"
   ]
  },
  {
   "cell_type": "markdown",
   "metadata": {},
   "source": [
    "## Explore the Data\n",
    "The dataset is broken into batches to prevent your machine from running out of memory.  The CIFAR-10 dataset consists of 5 batches, named `data_batch_1`, `data_batch_2`, etc.. Each batch contains the labels and images that are one of the following:\n",
    "* airplane\n",
    "* automobile\n",
    "* bird\n",
    "* cat\n",
    "* deer\n",
    "* dog\n",
    "* frog\n",
    "* horse\n",
    "* ship\n",
    "* truck\n",
    "\n",
    "Understanding a dataset is part of making predictions on the data.  Play around with the code cell below by changing the `batch_id` and `sample_id`. The `batch_id` is the id for a batch (1-5). The `sample_id` is the id for a image and label pair in the batch.\n",
    "\n",
    "Ask yourself \"What are all possible labels?\", \"What is the range of values for the image data?\", \"Are the labels in order or random?\".  Answers to questions like these will help you preprocess the data and end up with better predictions."
   ]
  },
  {
   "cell_type": "code",
   "execution_count": 66,
   "metadata": {},
   "outputs": [
    {
     "name": "stdout",
     "output_type": "stream",
     "text": [
      "\n",
      "Stats of batch 2:\n",
      "Samples: 10000\n",
      "Label Counts: {0: 984, 1: 1007, 2: 1010, 3: 995, 4: 1010, 5: 988, 6: 1008, 7: 1026, 8: 987, 9: 985}\n",
      "First 20 Labels: [1, 6, 6, 8, 8, 3, 4, 6, 0, 6, 0, 3, 6, 6, 5, 4, 8, 3, 2, 6]\n",
      "\n",
      "Example of Image 8:\n",
      "Image - Min Value: 31 Max Value: 255\n",
      "Image - Shape: (32, 32, 3)\n",
      "Label - Label Id: 0 Name: airplane\n"
     ]
    },
    {
     "data": {
      "image/png": "[encoded data removed]",
      "text/plain": [
       "<matplotlib.figure.Figure at 0x10bfe9e2d30>"
      ]
     },
     "metadata": {
      "image/png": {
       "height": 250,
       "width": 253
      }
     },
     "output_type": "display_data"
    }
   ],
   "source": [
    "%matplotlib inline\n",
    "%config InlineBackend.figure_format = 'retina'\n",
    "\n",
    "import helper\n",
    "import numpy as np\n",
    "\n",
    "# Explore the dataset\n",
    "batch_id = 2\n",
    "sample_id = 8\n",
    "helper.display_stats(cifar10_dataset_folder_path, batch_id, sample_id)"
   ]
  },
  {
   "cell_type": "markdown",
   "metadata": {},
   "source": [
    "## Implement Preprocess Functions\n",
    "### Normalize\n",
    "In the cell below, implement the `normalize` function to take in image data, `x`, and return it as a normalized Numpy array. The values should be in the range of 0 to 1, inclusive.  The return object should be the same shape as `x`."
   ]
  },
  {
   "cell_type": "code",
   "execution_count": 67,
   "metadata": {},
   "outputs": [
    {
     "name": "stdout",
     "output_type": "stream",
     "text": [
      "Tests Passed\n"
     ]
    }
   ],
   "source": [
    "def normalize(x):\n",
    "    \"\"\"\n",
    "    Normalize a list of sample image data in the range of 0 to 1\n",
    "    : x: List of image data.  The image shape is (32, 32, 3)\n",
    "    : return: Numpy array of normalize data\n",
    "    \"\"\"\n",
    "    # Implement Function\n",
    "    return x/255\n",
    "\n",
    "\n",
    "\"\"\"\n",
    "DON'T MODIFY ANYTHING IN THIS CELL THAT IS BELOW THIS LINE\n",
    "\"\"\"\n",
    "tests.test_normalize(normalize)"
   ]
  },
  {
   "cell_type": "markdown",
   "metadata": {},
   "source": [
    "### One-hot encode\n",
    "Just like the previous code cell, you'll be implementing a function for preprocessing.  This time, you'll implement the `one_hot_encode` function. The input, `x`, are a list of labels.  Implement the function to return the list of labels as One-Hot encoded Numpy array.  The possible values for labels are 0 to 9. The one-hot encoding function should return the same encoding for each value between each call to `one_hot_encode`.  Make sure to save the map of encodings outside the function.\n",
    "\n",
    "Hint: Don't reinvent the wheel."
   ]
  },
  {
   "cell_type": "code",
   "execution_count": 68,
   "metadata": {},
   "outputs": [
    {
     "name": "stdout",
     "output_type": "stream",
     "text": [
      "Tests Passed\n"
     ]
    }
   ],
   "source": [
    "def one_hot_encode(x):\n",
    "    \"\"\"\n",
    "    One hot encode a list of sample labels. Return a one-hot encoded vector for each label.\n",
    "    : x: List of sample Labels\n",
    "    : return: Numpy array of one-hot encoded labels\n",
    "    \"\"\"\n",
    "    # Implement Function\n",
    "    \n",
    "    max_value = 10\n",
    "    if not \"encode_map\" in globals(): \n",
    "        global encode_map\n",
    "        encode_map = {}\n",
    "        \n",
    "    value = encode_map.get(str(x))\n",
    "    if value is not None:\n",
    "        return value\n",
    "  \n",
    "    hot_encode = np.eye(max_value)[x]\n",
    "    encode_map[str(x)] = hot_encode\n",
    "    return hot_encode\n",
    "\n",
    "\n",
    "\"\"\"\n",
    "DON'T MODIFY ANYTHING IN THIS CELL THAT IS BELOW THIS LINE\n",
    "\"\"\"\n",
    "tests.test_one_hot_encode(one_hot_encode)"
   ]
  },
  {
   "cell_type": "markdown",
   "metadata": {},
   "source": [
    "### Randomize Data\n",
    "As you saw from exploring the data above, the order of the samples are randomized.  It doesn't hurt to randomize it again, but you don't need to for this dataset."
   ]
  },
  {
   "cell_type": "markdown",
   "metadata": {},
   "source": [
    "## Preprocess all the data and save it\n",
    "Running the code cell below will preprocess all the CIFAR-10 data and save it to file. The code below also uses 10% of the training data for validation."
   ]
  },
  {
   "cell_type": "code",
   "execution_count": 69,
   "metadata": {},
   "outputs": [],
   "source": [
    "\"\"\"\n",
    "DON'T MODIFY ANYTHING IN THIS CELL\n",
    "\"\"\"\n",
    "# Preprocess Training, Validation, and Testing Data\n",
    "helper.preprocess_and_save_data(cifar10_dataset_folder_path, normalize, one_hot_encode)"
   ]
  },
  {
   "cell_type": "markdown",
   "metadata": {},
   "source": [
    "# Check Point\n",
    "This is your first checkpoint.  If you ever decide to come back to this notebook or have to restart the notebook, you can start from here.  The preprocessed data has been saved to disk."
   ]
  },
  {
   "cell_type": "code",
   "execution_count": 70,
   "metadata": {},
   "outputs": [],
   "source": [
    "\"\"\"\n",
    "DON'T MODIFY ANYTHING IN THIS CELL\n",
    "\"\"\"\n",
    "import pickle\n",
    "import problem_unittests as tests\n",
    "import helper\n",
    "\n",
    "# Load the Preprocessed Validation data\n",
    "valid_features, valid_labels = pickle.load(open('preprocess_validation.p', mode='rb'))"
   ]
  },
  {
   "cell_type": "markdown",
   "metadata": {},
   "source": [
    "## Build the network\n",
    "For the neural network, you'll build each layer into a function.  Most of the code you've seen has been outside of functions. To test your code more thoroughly, we require that you put each layer in a function.  This allows us to give you better feedback and test for simple mistakes using our unittests before you submit your project.\n",
    "\n",
    ">**Note:** If you're finding it hard to dedicate enough time for this course each week, we've provided a small shortcut to this part of the project. In the next couple of problems, you'll have the option to use classes from the [TensorFlow Layers](https://www.tensorflow.org/api_docs/python/tf/layers) or [TensorFlow Layers (contrib)](https://www.tensorflow.org/api_guides/python/contrib.layers) packages to build each layer, except the layers you build in the \"Convolutional and Max Pooling Layer\" section.  TF Layers is similar to Keras's and TFLearn's abstraction to layers, so it's easy to pickup.\n",
    "\n",
    ">However, if you would like to get the most out of this course, try to solve all the problems _without_ using anything from the TF Layers packages. You **can** still use classes from other packages that happen to have the same name as ones you find in TF Layers! For example, instead of using the TF Layers version of the `conv2d` class, [tf.layers.conv2d](https://www.tensorflow.org/api_docs/python/tf/layers/conv2d), you would want to use the TF Neural Network version of `conv2d`, [tf.nn.conv2d](https://www.tensorflow.org/api_docs/python/tf/nn/conv2d). \n",
    "\n",
    "Let's begin!\n",
    "\n",
    "### Input\n",
    "The neural network needs to read the image data, one-hot encoded labels, and dropout keep probability. Implement the following functions\n",
    "* Implement `neural_net_image_input`\n",
    " * Return a [TF Placeholder](https://www.tensorflow.org/api_docs/python/tf/placeholder)\n",
    " * Set the shape using `image_shape` with batch size set to `None`.\n",
    " * Name the TensorFlow placeholder \"x\" using the TensorFlow `name` parameter in the [TF Placeholder](https://www.tensorflow.org/api_docs/python/tf/placeholder).\n",
    "* Implement `neural_net_label_input`\n",
    " * Return a [TF Placeholder](https://www.tensorflow.org/api_docs/python/tf/placeholder)\n",
    " * Set the shape using `n_classes` with batch size set to `None`.\n",
    " * Name the TensorFlow placeholder \"y\" using the TensorFlow `name` parameter in the [TF Placeholder](https://www.tensorflow.org/api_docs/python/tf/placeholder).\n",
    "* Implement `neural_net_keep_prob_input`\n",
    " * Return a [TF Placeholder](https://www.tensorflow.org/api_docs/python/tf/placeholder) for dropout keep probability.\n",
    " * Name the TensorFlow placeholder \"keep_prob\" using the TensorFlow `name` parameter in the [TF Placeholder](https://www.tensorflow.org/api_docs/python/tf/placeholder).\n",
    "\n",
    "These names will be used at the end of the project to load your saved model.\n",
    "\n",
    "Note: `None` for shapes in TensorFlow allow for a dynamic size."
   ]
  },
  {
   "cell_type": "code",
   "execution_count": 71,
   "metadata": {},
   "outputs": [
    {
     "name": "stdout",
     "output_type": "stream",
     "text": [
      "Image Input Tests Passed.\n",
      "Label Input Tests Passed.\n",
      "Keep Prob Tests Passed.\n"
     ]
    }
   ],
   "source": [
    "import tensorflow as tf\n",
    "\n",
    "def neural_net_image_input(image_shape):\n",
    "    \"\"\"\n",
    "    Return a Tensor for a batch of image input\n",
    "    : image_shape: Shape of the images\n",
    "    : return: Tensor for image input.\n",
    "    \"\"\"\n",
    "    # Implement Function\n",
    "    return tf.placeholder(tf.float32, [None, image_shape[0], image_shape[1], image_shape[2]], \"x\")\n",
    "\n",
    "\n",
    "def neural_net_label_input(n_classes):\n",
    "    \"\"\"\n",
    "    Return a Tensor for a batch of label input\n",
    "    : n_classes: Number of classes\n",
    "    : return: Tensor for label input.\n",
    "    \"\"\"\n",
    "    # Implement Function\n",
    "    return tf.placeholder(tf.float32,  [None, n_classes], \"y\")\n",
    "\n",
    "\n",
    "def neural_net_keep_prob_input():\n",
    "    \"\"\"\n",
    "    Return a Tensor for keep probability\n",
    "    : return: Tensor for keep probability.\n",
    "    \"\"\"\n",
    "    # Implement Function\n",
    "    return tf.placeholder(tf.float32, None, \"keep_prob\")\n",
    "\n",
    "\n",
    "\"\"\"\n",
    "DON'T MODIFY ANYTHING IN THIS CELL THAT IS BELOW THIS LINE\n",
    "\"\"\"\n",
    "tf.reset_default_graph()\n",
    "tests.test_nn_image_inputs(neural_net_image_input)\n",
    "tests.test_nn_label_inputs(neural_net_label_input)\n",
    "tests.test_nn_keep_prob_inputs(neural_net_keep_prob_input)"
   ]
  },
  {
   "cell_type": "markdown",
   "metadata": {},
   "source": [
    "### Convolution and Max Pooling Layer\n",
    "Convolution layers have a lot of success with images. For this code cell, you should implement the function `conv2d_maxpool` to apply convolution then max pooling:\n",
    "* Create the weight and bias using `conv_ksize`, `conv_num_outputs` and the shape of `x_tensor`.\n",
    "* Apply a convolution to `x_tensor` using weight and `conv_strides`.\n",
    " * We recommend you use same padding, but you're welcome to use any padding.\n",
    "* Add bias\n",
    "* Add a nonlinear activation to the convolution.\n",
    "* Apply Max Pooling using `pool_ksize` and `pool_strides`.\n",
    " * We recommend you use same padding, but you're welcome to use any padding.\n",
    "\n",
    "**Note:** You **can't** use [TensorFlow Layers](https://www.tensorflow.org/api_docs/python/tf/layers) or [TensorFlow Layers (contrib)](https://www.tensorflow.org/api_guides/python/contrib.layers) for **this** layer, but you can still use TensorFlow's [Neural Network](https://www.tensorflow.org/api_docs/python/tf/nn) package. You may still use the shortcut option for all the **other** layers."
   ]
  },
  {
   "cell_type": "code",
   "execution_count": 72,
   "metadata": {},
   "outputs": [
    {
     "name": "stdout",
     "output_type": "stream",
     "text": [
      "Tests Passed\n"
     ]
    }
   ],
   "source": [
    "def conv2d_maxpool(x_tensor, conv_num_outputs, conv_ksize, conv_strides, pool_ksize, pool_strides):\n",
    "    \"\"\"\n",
    "    Apply convolution then max pooling to x_tensor\n",
    "    :param x_tensor: TensorFlow Tensor\n",
    "    :param conv_num_outputs: Number of outputs for the convolutional layer\n",
    "    :param conv_ksize: kernal size 2-D Tuple for the convolutional layer\n",
    "    :param conv_strides: Stride 2-D Tuple for convolution\n",
    "    :param pool_ksize: kernal size 2-D Tuple for pool\n",
    "    :param pool_strides: Stride 2-D Tuple for pool\n",
    "    : return: A tensor that represents convolution and max pooling of x_tensor\n",
    "    \"\"\"\n",
    "    # Implement Function\n",
    " \n",
    "    x_tensor_shape = x_tensor.get_shape()\n",
    "    no_of_channels = int(str(x_tensor_shape[3]))\n",
    " \n",
    "    W = tf.Variable(tf.random_normal([conv_ksize[0], conv_ksize[1], no_of_channels, conv_num_outputs]))\n",
    "    b = tf.Variable(tf.random_normal([conv_num_outputs]))\n",
    "    x_tensor = tf.nn.conv2d(x_tensor, W, strides=[1, conv_strides[0], conv_strides[1], 1], padding='SAME')\n",
    "    x_tensor = tf.nn.bias_add(x_tensor, b)\n",
    "    x_tensor = tf.nn.relu(x_tensor)\n",
    "    \n",
    "\n",
    "    return tf.nn.max_pool(\n",
    "        x_tensor,\n",
    "        ksize=[1, pool_ksize[0], pool_ksize[1], 1],\n",
    "        strides=[1, pool_strides[0], pool_strides[1], 1],\n",
    "        padding='SAME')    \n",
    "\n",
    "\"\"\"\n",
    "DON'T MODIFY ANYTHING IN THIS CELL THAT IS BELOW THIS LINE\n",
    "\"\"\"\n",
    "tests.test_con_pool(conv2d_maxpool)"
   ]
  },
  {
   "cell_type": "markdown",
   "metadata": {},
   "source": [
    "### Flatten Layer\n",
    "Implement the `flatten` function to change the dimension of `x_tensor` from a 4-D tensor to a 2-D tensor.  The output should be the shape (*Batch Size*, *Flattened Image Size*). Shortcut option: you can use classes from the [TensorFlow Layers](https://www.tensorflow.org/api_docs/python/tf/layers) or [TensorFlow Layers (contrib)](https://www.tensorflow.org/api_guides/python/contrib.layers) packages for this layer. For more of a challenge, only use other TensorFlow packages."
   ]
  },
  {
   "cell_type": "code",
   "execution_count": 73,
   "metadata": {},
   "outputs": [
    {
     "name": "stdout",
     "output_type": "stream",
     "text": [
      "Tests Passed\n"
     ]
    }
   ],
   "source": [
    "def flatten(x_tensor):\n",
    "    \"\"\"\n",
    "    Flatten x_tensor to (Batch Size, Flattened Image Size)\n",
    "    : x_tensor: A tensor of size (Batch Size, ...), where ... are the image dimensions.\n",
    "    : return: A tensor of size (Batch Size, Flattened Image Size).\n",
    "    \"\"\"\n",
    "    # Implement Function\n",
    "    return tf.contrib.layers.flatten(x_tensor)\n",
    "\n",
    "\n",
    "\"\"\"\n",
    "DON'T MODIFY ANYTHING IN THIS CELL THAT IS BELOW THIS LINE\n",
    "\"\"\"\n",
    "tests.test_flatten(flatten)"
   ]
  },
  {
   "cell_type": "markdown",
   "metadata": {},
   "source": [
    "### Fully-Connected Layer\n",
    "Implement the `fully_conn` function to apply a fully connected layer to `x_tensor` with the shape (*Batch Size*, *num_outputs*). Shortcut option: you can use classes from the [TensorFlow Layers](https://www.tensorflow.org/api_docs/python/tf/layers) or [TensorFlow Layers (contrib)](https://www.tensorflow.org/api_guides/python/contrib.layers) packages for this layer. For more of a challenge, only use other TensorFlow packages."
   ]
  },
  {
   "cell_type": "code",
   "execution_count": 81,
   "metadata": {},
   "outputs": [
    {
     "name": "stdout",
     "output_type": "stream",
     "text": [
      "Tests Passed\n"
     ]
    }
   ],
   "source": [
    "def fully_conn(x_tensor, num_outputs):\n",
    "    \"\"\"\n",
    "    Apply a fully connected layer to x_tensor using weight and bias\n",
    "    : x_tensor: A 2-D tensor where the first dimension is batch size.\n",
    "    : num_outputs: The number of output that the new tensor should be.\n",
    "    : return: A 2-D tensor where the second dimension is num_outputs.\n",
    "    \"\"\"\n",
    "    # Implement Function\n",
    "    \n",
    "    # Get Number of features\n",
    "    num_features = x_tensor.shape[1].value\n",
    "    \n",
    "    # Define weights as tensorflow variable W and randomly initialize its weight\n",
    "    W = tf.Variable(tf.random_normal([num_features, num_outputs]))\n",
    "    \n",
    "    # Define bias tensorflow variable b and initialize to zeroes\n",
    "    b = tf.Variable(tf.zeros([num_outputs]))\n",
    "    \n",
    "    # Apply linear transformaration Z = x_tensor * W +b\n",
    "    Z = tf.add(tf.matmul(x_tensor, W), b)\n",
    "    \n",
    "    # Apply Non-linear relu activation on Z\n",
    "    a = tf.nn.relu(Z)\n",
    "    \n",
    "    return a\n",
    "   \n",
    "\n",
    "\"\"\"\n",
    "DON'T MODIFY ANYTHING IN THIS CELL THAT IS BELOW THIS LINE\n",
    "\"\"\"\n",
    "tests.test_fully_conn(fully_conn)"
   ]
  },
  {
   "cell_type": "markdown",
   "metadata": {},
   "source": [
    "### Output Layer\n",
    "Implement the `output` function to apply a fully connected layer to `x_tensor` with the shape (*Batch Size*, *num_outputs*). Shortcut option: you can use classes from the [TensorFlow Layers](https://www.tensorflow.org/api_docs/python/tf/layers) or [TensorFlow Layers (contrib)](https://www.tensorflow.org/api_guides/python/contrib.layers) packages for this layer. For more of a challenge, only use other TensorFlow packages.\n",
    "\n",
    "**Note:** Activation, softmax, or cross entropy should **not** be applied to this."
   ]
  },
  {
   "cell_type": "code",
   "execution_count": 82,
   "metadata": {},
   "outputs": [
    {
     "name": "stdout",
     "output_type": "stream",
     "text": [
      "Tests Passed\n"
     ]
    }
   ],
   "source": [
    "def output(x_tensor, num_outputs):\n",
    "    \"\"\"\n",
    "    Apply a output layer to x_tensor using weight and bias\n",
    "    : x_tensor: A 2-D tensor where the first dimension is batch size.\n",
    "    : num_outputs: The number of output that the new tensor should be.\n",
    "    : return: A 2-D tensor where the second dimension is num_outputs.\n",
    "    \"\"\"\n",
    "    # Implement Function\n",
    "    \n",
    "    # Get Number of features\n",
    "    num_features = x_tensor.shape[1].value\n",
    "    \n",
    "    # Define weights as tensorflow variable W and randomly initialize its weight\n",
    "    W = tf.Variable(tf.random_normal([num_features, num_outputs]))\n",
    "    \n",
    "    # Define bias tensorflow variable b and initialize to zeroes\n",
    "    b = tf.Variable(tf.zeros([num_outputs]))\n",
    "    \n",
    "    # Apply linear transformaration Z = x_tensor * W + b\n",
    "    Z = tf.add(tf.matmul(x_tensor, W), b)\n",
    "    \n",
    "    return Z\n",
    "\n",
    "\n",
    "\"\"\"\n",
    "DON'T MODIFY ANYTHING IN THIS CELL THAT IS BELOW THIS LINE\n",
    "\"\"\"\n",
    "tests.test_output(output)"
   ]
  },
  {
   "cell_type": "markdown",
   "metadata": {},
   "source": [
    "### Create Convolutional Model\n",
    "Implement the function `conv_net` to create a convolutional neural network model. The function takes in a batch of images, `x`, and outputs logits.  Use the layers you created above to create this model:\n",
    "\n",
    "* Apply 1, 2, or 3 Convolution and Max Pool layers\n",
    "* Apply a Flatten Layer\n",
    "* Apply 1, 2, or 3 Fully Connected Layers\n",
    "* Apply an Output Layer\n",
    "* Return the output\n",
    "* Apply [TensorFlow's Dropout](https://www.tensorflow.org/api_docs/python/tf/nn/dropout) to one or more layers in the model using `keep_prob`. "
   ]
  },
  {
   "cell_type": "code",
   "execution_count": 83,
   "metadata": {},
   "outputs": [
    {
     "name": "stdout",
     "output_type": "stream",
     "text": [
      "Neural Network Built!\n"
     ]
    }
   ],
   "source": [
    "def conv_net(x, keep_prob):\n",
    "    \"\"\"\n",
    "    Create a convolutional neural network model\n",
    "    : x: Placeholder tensor that holds image data.\n",
    "    : keep_prob: Placeholder tensor that hold dropout keep probability.\n",
    "    : return: Tensor that represents logits\n",
    "    \"\"\"\n",
    "    # Apply 1, 2, or 3 Convolution and Max Pool layers\n",
    "    # Play around with different number of outputs, kernel size and stride\n",
    "    # Function Definition from Above:\n",
    "    #   conv2d_maxpool(x_tensor, conv_num_outputs, conv_ksize, conv_strides, pool_ksize, pool_strides)\n",
    "    x = conv2d_maxpool(x, 128, (4,4), (2,2), (2,2), (1,1))\n",
    "    x = conv2d_maxpool(x, 256, (4,4), (1,1), (1,1), (1,1))  \n",
    "     \n",
    "   \n",
    "    \n",
    "    # Apply a Flatten Layer\n",
    "    # Function Definition from Above:\n",
    "    #   flatten(x_tensor)\n",
    "    x = flatten(x)\n",
    "    \n",
    "  \n",
    "    # Apply 1, 2, or 3 Fully Connected Layers\n",
    "    #  Play around with different number of outputs\n",
    "    # Function Definition from Above:\n",
    "    #   fully_conn(x_tensor, num_outputs)\n",
    "    num_outputs = 256\n",
    "    x = fully_conn(x, num_outputs)\n",
    "    x = tf.nn.dropout(x, keep_prob)\n",
    "    num_outputs = 128\n",
    "    x = fully_conn(x, num_outputs)\n",
    "   \n",
    "    \n",
    "    \n",
    "    # Apply an Output Layer\n",
    "    # Set this to the number of classes\n",
    "    # Function Definition from Above:\n",
    "    #   output(x_tensor, num_outputs)\n",
    "    num_outputs = 10\n",
    "    x = output(x, num_outputs)\n",
    "    \n",
    "    \n",
    "    # return output\n",
    "    return x\n",
    "\n",
    "\n",
    "\"\"\"\n",
    "DON'T MODIFY ANYTHING IN THIS CELL THAT IS BELOW THIS LINE\n",
    "\"\"\"\n",
    "\n",
    "##############################\n",
    "## Build the Neural Network ##\n",
    "##############################\n",
    "\n",
    "# Remove previous weights, bias, inputs, etc..\n",
    "tf.reset_default_graph()\n",
    "\n",
    "# Inputs\n",
    "x = neural_net_image_input((32, 32, 3))\n",
    "y = neural_net_label_input(10)\n",
    "keep_prob = neural_net_keep_prob_input()\n",
    "\n",
    "# Model\n",
    "logits = conv_net(x, keep_prob)\n",
    "\n",
    "# Name logits Tensor, so that is can be loaded from disk after training\n",
    "logits = tf.identity(logits, name='logits')\n",
    "\n",
    "# Loss and Optimizer\n",
    "cost = tf.reduce_mean(tf.nn.softmax_cross_entropy_with_logits(logits=logits, labels=y))\n",
    "optimizer = tf.train.AdamOptimizer().minimize(cost)\n",
    "\n",
    "# Accuracy\n",
    "correct_pred = tf.equal(tf.argmax(logits, 1), tf.argmax(y, 1))\n",
    "accuracy = tf.reduce_mean(tf.cast(correct_pred, tf.float32), name='accuracy')\n",
    "\n",
    "tests.test_conv_net(conv_net)"
   ]
  },
  {
   "cell_type": "markdown",
   "metadata": {},
   "source": [
    "## Train the Neural Network\n",
    "### Single Optimization\n",
    "Implement the function `train_neural_network` to do a single optimization.  The optimization should use `optimizer` to optimize in `session` with a `feed_dict` of the following:\n",
    "* `x` for image input\n",
    "* `y` for labels\n",
    "* `keep_prob` for keep probability for dropout\n",
    "\n",
    "This function will be called for each batch, so `tf.global_variables_initializer()` has already been called.\n",
    "\n",
    "Note: Nothing needs to be returned. This function is only optimizing the neural network."
   ]
  },
  {
   "cell_type": "code",
   "execution_count": 84,
   "metadata": {},
   "outputs": [
    {
     "name": "stdout",
     "output_type": "stream",
     "text": [
      "Tests Passed\n"
     ]
    }
   ],
   "source": [
    "def train_neural_network(session, optimizer, keep_probability, feature_batch, label_batch):\n",
    "    \"\"\"\n",
    "    Optimize the session on a batch of images and labels\n",
    "    : session: Current TensorFlow session\n",
    "    : optimizer: TensorFlow optimizer function\n",
    "    : keep_probability: keep probability\n",
    "    : feature_batch: Batch of Numpy image data\n",
    "    : label_batch: Batch of Numpy label data\n",
    "    \"\"\"\n",
    "    # Implement Function\n",
    "    session.run(optimizer, feed_dict={x: feature_batch,\n",
    "                                   y: label_batch,\n",
    "                                   keep_prob: keep_probability})\n",
    "\n",
    "\n",
    "\n",
    "\"\"\"\n",
    "DON'T MODIFY ANYTHING IN THIS CELL THAT IS BELOW THIS LINE\n",
    "\"\"\"\n",
    "tests.test_train_nn(train_neural_network)"
   ]
  },
  {
   "cell_type": "markdown",
   "metadata": {},
   "source": [
    "### Show Stats\n",
    "Implement the function `print_stats` to print loss and validation accuracy.  Use the global variables `valid_features` and `valid_labels` to calculate validation accuracy.  Use a keep probability of `1.0` to calculate the loss and validation accuracy."
   ]
  },
  {
   "cell_type": "code",
   "execution_count": 85,
   "metadata": {},
   "outputs": [],
   "source": [
    "def print_stats(session, feature_batch, label_batch, cost, accuracy):\n",
    "    \"\"\"\n",
    "    Print information about loss and validation accuracy\n",
    "    : session: Current TensorFlow session\n",
    "    : feature_batch: Batch of Numpy image data\n",
    "    : label_batch: Batch of Numpy label data\n",
    "    : cost: TensorFlow cost function\n",
    "    : accuracy: TensorFlow accuracy function\n",
    "    \"\"\"\n",
    "    # Implement Function\n",
    "    global valid_features\n",
    "    global valid_labels\n",
    "    \n",
    "    training_loss = sess.run(cost, feed_dict={\n",
    "                x: feature_batch,\n",
    "                y: label_batch,\n",
    "                keep_prob: 1.})\n",
    "    \n",
    "    training_accuracy = sess.run(accuracy, feed_dict={\n",
    "                x: feature_batch,\n",
    "                y: label_batch,\n",
    "                keep_prob: 1.})\n",
    "  \n",
    "    validation_loss = sess.run(cost, feed_dict={\n",
    "                x: valid_features,\n",
    "                y: valid_labels,\n",
    "                keep_prob: 1.})\n",
    "    \n",
    "    validation_accuracy = sess.run(accuracy, feed_dict={\n",
    "                x: valid_features,\n",
    "                y: valid_labels,\n",
    "                keep_prob: 1.})\n",
    "     \n",
    "    print('Training Loss: {:>10.4f} Training Accuracy: {:.6f}'.format(\n",
    "                                                              training_loss,\n",
    "                                                              training_accuracy))\n",
    "    \n",
    "    print('Validation Loss: {:>10.4f} Validation Accuracy: {:.6f}'.format(\n",
    "                                                                  validation_loss,\n",
    "                                                                  validation_accuracy))\n",
    "\n",
    "  "
   ]
  },
  {
   "cell_type": "markdown",
   "metadata": {},
   "source": [
    "### Hyperparameters\n",
    "Tune the following parameters:\n",
    "* Set `epochs` to the number of iterations until the network stops learning or start overfitting\n",
    "* Set `batch_size` to the highest number that your machine has memory for.  Most people set them to common sizes of memory:\n",
    " * 64\n",
    " * 128\n",
    " * 256\n",
    " * ...\n",
    "* Set `keep_probability` to the probability of keeping a node using dropout"
   ]
  },
  {
   "cell_type": "code",
   "execution_count": 86,
   "metadata": {},
   "outputs": [],
   "source": [
    "# TODO: Tune Parameters\n",
    "epochs = 25\n",
    "batch_size = 512\n",
    "keep_probability = 0.70"
   ]
  },
  {
   "cell_type": "markdown",
   "metadata": {},
   "source": [
    "### Train on a Single CIFAR-10 Batch\n",
    "Instead of training the neural network on all the CIFAR-10 batches of data, let's use a single batch. This should save time while you iterate on the model to get a better accuracy.  Once the final validation accuracy is 50% or greater, run the model on all the data in the next section."
   ]
  },
  {
   "cell_type": "code",
   "execution_count": 88,
   "metadata": {
    "scrolled": false
   },
   "outputs": [
    {
     "name": "stdout",
     "output_type": "stream",
     "text": [
      "Checking the Training on a Single Batch...\n",
      "Epoch  1, CIFAR-10 Batch 1:  Training Loss: 30279.7637 Training Accuracy: 0.216216\n",
      "Validation Loss: 29338.1211 Validation Accuracy: 0.208800\n",
      "Epoch  2, CIFAR-10 Batch 1:  Training Loss:  7009.8804 Training Accuracy: 0.304054\n",
      "Validation Loss:  6102.6016 Validation Accuracy: 0.307600\n",
      "Epoch  3, CIFAR-10 Batch 1:  Training Loss:  2367.1516 Training Accuracy: 0.435811\n",
      "Validation Loss:  2488.7351 Validation Accuracy: 0.366200\n",
      "Epoch  4, CIFAR-10 Batch 1:  Training Loss:  1001.3709 Training Accuracy: 0.496622\n",
      "Validation Loss:  1223.9681 Validation Accuracy: 0.420600\n",
      "Epoch  5, CIFAR-10 Batch 1:  Training Loss:   500.4111 Training Accuracy: 0.597973\n",
      "Validation Loss:   831.7051 Validation Accuracy: 0.436600\n",
      "Epoch  6, CIFAR-10 Batch 1:  Training Loss:  1699.4563 Training Accuracy: 0.405405\n",
      "Validation Loss:  2173.6533 Validation Accuracy: 0.302600\n",
      "Epoch  7, CIFAR-10 Batch 1:  Training Loss:  1138.7841 Training Accuracy: 0.435811\n",
      "Validation Loss:  1465.4032 Validation Accuracy: 0.346200\n",
      "Epoch  8, CIFAR-10 Batch 1:  Training Loss:   499.6897 Training Accuracy: 0.604730\n",
      "Validation Loss:  1038.9952 Validation Accuracy: 0.421000\n",
      "Epoch  9, CIFAR-10 Batch 1:  Training Loss:   182.1382 Training Accuracy: 0.750000\n",
      "Validation Loss:   718.2811 Validation Accuracy: 0.458600\n",
      "Epoch 10, CIFAR-10 Batch 1:  Training Loss:    98.2239 Training Accuracy: 0.827703\n",
      "Validation Loss:   565.4349 Validation Accuracy: 0.490400\n",
      "Epoch 11, CIFAR-10 Batch 1:  Training Loss:   176.8045 Training Accuracy: 0.756757\n",
      "Validation Loss:   743.5216 Validation Accuracy: 0.408600\n",
      "Epoch 12, CIFAR-10 Batch 1:  Training Loss:   245.1856 Training Accuracy: 0.729730\n",
      "Validation Loss:   826.0188 Validation Accuracy: 0.398000\n",
      "Epoch 13, CIFAR-10 Batch 1:  Training Loss:   256.0140 Training Accuracy: 0.766892\n",
      "Validation Loss:   857.6568 Validation Accuracy: 0.449600\n",
      "Epoch 14, CIFAR-10 Batch 1:  Training Loss:   215.3868 Training Accuracy: 0.753378\n",
      "Validation Loss:   890.3517 Validation Accuracy: 0.411800\n",
      "Epoch 15, CIFAR-10 Batch 1:  Training Loss:   170.9556 Training Accuracy: 0.780405\n",
      "Validation Loss:  1002.7399 Validation Accuracy: 0.428000\n",
      "Epoch 16, CIFAR-10 Batch 1:  Training Loss:    30.4644 Training Accuracy: 0.929054\n",
      "Validation Loss:   701.9940 Validation Accuracy: 0.475800\n",
      "Epoch 17, CIFAR-10 Batch 1:  Training Loss:    83.0440 Training Accuracy: 0.858108\n",
      "Validation Loss:   839.3074 Validation Accuracy: 0.450800\n",
      "Epoch 18, CIFAR-10 Batch 1:  Training Loss:    84.0289 Training Accuracy: 0.841216\n",
      "Validation Loss:   841.9260 Validation Accuracy: 0.437000\n",
      "Epoch 19, CIFAR-10 Batch 1:  Training Loss:   147.4350 Training Accuracy: 0.814189\n",
      "Validation Loss:   958.7020 Validation Accuracy: 0.423400\n",
      "Epoch 20, CIFAR-10 Batch 1:  Training Loss:   100.5013 Training Accuracy: 0.844595\n",
      "Validation Loss:  1018.8123 Validation Accuracy: 0.439200\n",
      "Epoch 21, CIFAR-10 Batch 1:  Training Loss:    36.9989 Training Accuracy: 0.922297\n",
      "Validation Loss:   820.4844 Validation Accuracy: 0.456400\n",
      "Epoch 22, CIFAR-10 Batch 1:  Training Loss:    56.6306 Training Accuracy: 0.902027\n",
      "Validation Loss:   782.5657 Validation Accuracy: 0.466800\n",
      "Epoch 23, CIFAR-10 Batch 1:  Training Loss:     3.4887 Training Accuracy: 0.986486\n",
      "Validation Loss:   615.8253 Validation Accuracy: 0.522800\n",
      "Epoch 24, CIFAR-10 Batch 1:  Training Loss:    29.3505 Training Accuracy: 0.942568\n",
      "Validation Loss:   699.2771 Validation Accuracy: 0.494600\n",
      "Epoch 25, CIFAR-10 Batch 1:  Training Loss:     5.7943 Training Accuracy: 0.972973\n",
      "Validation Loss:   640.8947 Validation Accuracy: 0.518800\n"
     ]
    }
   ],
   "source": [
    "\"\"\"\n",
    "DON'T MODIFY ANYTHING IN THIS CELL\n",
    "\"\"\"\n",
    "print('Checking the Training on a Single Batch...')\n",
    "with tf.Session() as sess:\n",
    "    # Initializing the variables\n",
    "    sess.run(tf.global_variables_initializer())\n",
    "    \n",
    "    # Training cycle\n",
    "    for epoch in range(epochs):\n",
    "        batch_i = 1\n",
    "        for batch_features, batch_labels in helper.load_preprocess_training_batch(batch_i, batch_size):\n",
    "            train_neural_network(sess, optimizer, keep_probability, batch_features, batch_labels)\n",
    "        print('Epoch {:>2}, CIFAR-10 Batch {}:  '.format(epoch + 1, batch_i), end='')\n",
    "        print_stats(sess, batch_features, batch_labels, cost, accuracy)     "
   ]
  },
  {
   "cell_type": "markdown",
   "metadata": {},
   "source": [
    "### Fully Train the Model\n",
    "Now that you got a good accuracy with a single CIFAR-10 batch, try it with all five batches."
   ]
  },
  {
   "cell_type": "code",
   "execution_count": 89,
   "metadata": {},
   "outputs": [
    {
     "name": "stdout",
     "output_type": "stream",
     "text": [
      "Training...\n",
      "Epoch  1, CIFAR-10 Batch 1:  Training Loss: 53779.3906 Training Accuracy: 0.168919\n",
      "Validation Loss: 53635.3711 Validation Accuracy: 0.215800\n",
      "Epoch  1, CIFAR-10 Batch 2:  Training Loss: 11595.2021 Training Accuracy: 0.209459\n",
      "Validation Loss: 11402.2451 Validation Accuracy: 0.215200\n",
      "Epoch  1, CIFAR-10 Batch 3:  Training Loss:  3136.5388 Training Accuracy: 0.418919\n",
      "Validation Loss:  3429.5188 Validation Accuracy: 0.357000\n",
      "Epoch  1, CIFAR-10 Batch 4:  Training Loss:  1355.6975 Training Accuracy: 0.425676\n",
      "Validation Loss:  1619.2367 Validation Accuracy: 0.395800\n",
      "Epoch  1, CIFAR-10 Batch 5:  Training Loss:   861.8983 Training Accuracy: 0.466216\n",
      "Validation Loss:   939.4966 Validation Accuracy: 0.431200\n",
      "Epoch  2, CIFAR-10 Batch 1:  Training Loss:  1497.3539 Training Accuracy: 0.341216\n",
      "Validation Loss:  1377.4081 Validation Accuracy: 0.341600\n",
      "Epoch  2, CIFAR-10 Batch 2:  Training Loss:  2341.6438 Training Accuracy: 0.222973\n",
      "Validation Loss:  2711.1511 Validation Accuracy: 0.161800\n",
      "Epoch  2, CIFAR-10 Batch 3:  Training Loss:  1999.3585 Training Accuracy: 0.378378\n",
      "Validation Loss:  2372.7249 Validation Accuracy: 0.313400\n",
      "Epoch  2, CIFAR-10 Batch 4:  Training Loss:   609.8279 Training Accuracy: 0.557432\n",
      "Validation Loss:   832.0867 Validation Accuracy: 0.451400\n",
      "Epoch  2, CIFAR-10 Batch 5:  Training Loss:   462.2177 Training Accuracy: 0.506757\n",
      "Validation Loss:   580.5718 Validation Accuracy: 0.466800\n",
      "Epoch  3, CIFAR-10 Batch 1:  Training Loss:   432.4834 Training Accuracy: 0.486486\n",
      "Validation Loss:   424.2073 Validation Accuracy: 0.498000\n",
      "Epoch  3, CIFAR-10 Batch 2:  Training Loss:   351.0682 Training Accuracy: 0.523649\n",
      "Validation Loss:   531.5011 Validation Accuracy: 0.442600\n",
      "Epoch  3, CIFAR-10 Batch 3:  Training Loss:   227.4468 Training Accuracy: 0.601351\n",
      "Validation Loss:   337.2023 Validation Accuracy: 0.485600\n",
      "Epoch  3, CIFAR-10 Batch 4:  Training Loss:   166.4401 Training Accuracy: 0.594595\n",
      "Validation Loss:   269.1006 Validation Accuracy: 0.495200\n",
      "Epoch  3, CIFAR-10 Batch 5:  Training Loss:   118.5414 Training Accuracy: 0.604730\n",
      "Validation Loss:   220.6374 Validation Accuracy: 0.519200\n",
      "Epoch  4, CIFAR-10 Batch 1:  Training Loss:   374.3627 Training Accuracy: 0.415541\n",
      "Validation Loss:   420.6559 Validation Accuracy: 0.420200\n",
      "Epoch  4, CIFAR-10 Batch 2:  Training Loss:   139.7189 Training Accuracy: 0.614865\n",
      "Validation Loss:   273.1867 Validation Accuracy: 0.465200\n",
      "Epoch  4, CIFAR-10 Batch 3:  Training Loss:    94.4669 Training Accuracy: 0.685811\n",
      "Validation Loss:   204.2471 Validation Accuracy: 0.516200\n",
      "Epoch  4, CIFAR-10 Batch 4:  Training Loss:   205.3535 Training Accuracy: 0.594595\n",
      "Validation Loss:   319.6341 Validation Accuracy: 0.457600\n",
      "Epoch  4, CIFAR-10 Batch 5:  Training Loss:    95.4741 Training Accuracy: 0.662162\n",
      "Validation Loss:   205.7781 Validation Accuracy: 0.508200\n",
      "Epoch  5, CIFAR-10 Batch 1:  Training Loss:    89.9575 Training Accuracy: 0.662162\n",
      "Validation Loss:   187.3710 Validation Accuracy: 0.511200\n",
      "Epoch  5, CIFAR-10 Batch 2:  Training Loss:    69.9928 Training Accuracy: 0.685811\n",
      "Validation Loss:   204.4241 Validation Accuracy: 0.453400\n",
      "Epoch  5, CIFAR-10 Batch 3:  Training Loss:    52.8567 Training Accuracy: 0.733108\n",
      "Validation Loss:   160.5280 Validation Accuracy: 0.526800\n",
      "Epoch  5, CIFAR-10 Batch 4:  Training Loss:    63.6720 Training Accuracy: 0.719595\n",
      "Validation Loss:   162.3529 Validation Accuracy: 0.512800\n",
      "Epoch  5, CIFAR-10 Batch 5:  Training Loss:    59.8592 Training Accuracy: 0.682432\n",
      "Validation Loss:   170.9537 Validation Accuracy: 0.492200\n",
      "Epoch  6, CIFAR-10 Batch 1:  Training Loss:    49.3047 Training Accuracy: 0.733108\n",
      "Validation Loss:   140.0746 Validation Accuracy: 0.539800\n",
      "Epoch  6, CIFAR-10 Batch 2:  Training Loss:    52.8024 Training Accuracy: 0.726351\n",
      "Validation Loss:   181.4356 Validation Accuracy: 0.467800\n",
      "Epoch  6, CIFAR-10 Batch 3:  Training Loss:    47.0808 Training Accuracy: 0.733108\n",
      "Validation Loss:   153.3294 Validation Accuracy: 0.498600\n",
      "Epoch  6, CIFAR-10 Batch 4:  Training Loss:   115.8119 Training Accuracy: 0.611486\n",
      "Validation Loss:   234.3955 Validation Accuracy: 0.441800\n",
      "Epoch  6, CIFAR-10 Batch 5:  Training Loss:    54.5106 Training Accuracy: 0.709459\n",
      "Validation Loss:   169.3191 Validation Accuracy: 0.497800\n",
      "Epoch  7, CIFAR-10 Batch 1:  Training Loss:    55.3416 Training Accuracy: 0.689189\n",
      "Validation Loss:   156.6250 Validation Accuracy: 0.482200\n",
      "Epoch  7, CIFAR-10 Batch 2:  Training Loss:    45.7526 Training Accuracy: 0.743243\n",
      "Validation Loss:   159.4630 Validation Accuracy: 0.481400\n",
      "Epoch  7, CIFAR-10 Batch 3:  Training Loss:    96.9482 Training Accuracy: 0.628378\n",
      "Validation Loss:   235.6730 Validation Accuracy: 0.431200\n",
      "Epoch  7, CIFAR-10 Batch 4:  Training Loss:    38.9405 Training Accuracy: 0.770270\n",
      "Validation Loss:   138.9619 Validation Accuracy: 0.516600\n",
      "Epoch  7, CIFAR-10 Batch 5:  Training Loss:    27.4712 Training Accuracy: 0.780405\n",
      "Validation Loss:   140.7579 Validation Accuracy: 0.502800\n",
      "Epoch  8, CIFAR-10 Batch 1:  Training Loss:    27.5780 Training Accuracy: 0.756757\n",
      "Validation Loss:   122.4701 Validation Accuracy: 0.529800\n",
      "Epoch  8, CIFAR-10 Batch 2:  Training Loss:    20.8038 Training Accuracy: 0.834459\n",
      "Validation Loss:   124.2082 Validation Accuracy: 0.520600\n",
      "Epoch  8, CIFAR-10 Batch 3:  Training Loss:    26.5903 Training Accuracy: 0.804054\n",
      "Validation Loss:   138.8667 Validation Accuracy: 0.490400\n",
      "Epoch  8, CIFAR-10 Batch 4:  Training Loss:    35.4340 Training Accuracy: 0.770270\n",
      "Validation Loss:   141.7534 Validation Accuracy: 0.482600\n",
      "Epoch  8, CIFAR-10 Batch 5:  Training Loss:    28.0438 Training Accuracy: 0.753378\n",
      "Validation Loss:   140.3656 Validation Accuracy: 0.486000\n",
      "Epoch  9, CIFAR-10 Batch 1:  Training Loss:    27.1741 Training Accuracy: 0.780405\n",
      "Validation Loss:   129.8371 Validation Accuracy: 0.502400\n",
      "Epoch  9, CIFAR-10 Batch 2:  Training Loss:    16.5293 Training Accuracy: 0.817568\n",
      "Validation Loss:   116.3907 Validation Accuracy: 0.517200\n",
      "Epoch  9, CIFAR-10 Batch 3:  Training Loss:    36.1263 Training Accuracy: 0.722973\n",
      "Validation Loss:   156.9281 Validation Accuracy: 0.448400\n",
      "Epoch  9, CIFAR-10 Batch 4:  Training Loss:    19.1270 Training Accuracy: 0.810811\n",
      "Validation Loss:   116.7639 Validation Accuracy: 0.514800\n",
      "Epoch  9, CIFAR-10 Batch 5:  Training Loss:    39.9281 Training Accuracy: 0.746622\n",
      "Validation Loss:   164.8920 Validation Accuracy: 0.491000\n",
      "Epoch 10, CIFAR-10 Batch 1:  Training Loss:    30.0263 Training Accuracy: 0.773649\n",
      "Validation Loss:   139.6172 Validation Accuracy: 0.494600\n",
      "Epoch 10, CIFAR-10 Batch 2:  Training Loss:    25.5687 Training Accuracy: 0.766892\n",
      "Validation Loss:   134.1310 Validation Accuracy: 0.496800\n",
      "Epoch 10, CIFAR-10 Batch 3:  Training Loss:    36.9287 Training Accuracy: 0.753378\n",
      "Validation Loss:   154.7159 Validation Accuracy: 0.475400\n",
      "Epoch 10, CIFAR-10 Batch 4:  Training Loss:    17.4152 Training Accuracy: 0.804054\n",
      "Validation Loss:   118.4453 Validation Accuracy: 0.514000\n",
      "Epoch 10, CIFAR-10 Batch 5:  Training Loss:    42.2123 Training Accuracy: 0.739865\n",
      "Validation Loss:   169.1646 Validation Accuracy: 0.463400\n",
      "Epoch 11, CIFAR-10 Batch 1:  Training Loss:    13.4245 Training Accuracy: 0.820946\n",
      "Validation Loss:   116.4505 Validation Accuracy: 0.526800\n",
      "Epoch 11, CIFAR-10 Batch 2:  Training Loss:    13.8274 Training Accuracy: 0.875000\n",
      "Validation Loss:   112.8755 Validation Accuracy: 0.521200\n",
      "Epoch 11, CIFAR-10 Batch 3:  Training Loss:    16.2621 Training Accuracy: 0.820946\n",
      "Validation Loss:   120.2409 Validation Accuracy: 0.521200\n",
      "Epoch 11, CIFAR-10 Batch 4:  Training Loss:    16.1245 Training Accuracy: 0.807432\n",
      "Validation Loss:   118.3322 Validation Accuracy: 0.503000\n",
      "Epoch 11, CIFAR-10 Batch 5:  Training Loss:    12.1899 Training Accuracy: 0.831081\n",
      "Validation Loss:   111.7110 Validation Accuracy: 0.511400\n",
      "Epoch 12, CIFAR-10 Batch 1:  Training Loss:    25.3857 Training Accuracy: 0.773649\n",
      "Validation Loss:   140.9803 Validation Accuracy: 0.451800\n",
      "Epoch 12, CIFAR-10 Batch 2:  Training Loss:    10.4527 Training Accuracy: 0.847973\n",
      "Validation Loss:   109.0108 Validation Accuracy: 0.516800\n",
      "Epoch 12, CIFAR-10 Batch 3:  Training Loss:    13.1582 Training Accuracy: 0.851351\n",
      "Validation Loss:   115.5040 Validation Accuracy: 0.503000\n"
     ]
    },
    {
     "name": "stdout",
     "output_type": "stream",
     "text": [
      "Epoch 12, CIFAR-10 Batch 4:  Training Loss:    21.1119 Training Accuracy: 0.820946\n",
      "Validation Loss:   122.6418 Validation Accuracy: 0.481400\n",
      "Epoch 12, CIFAR-10 Batch 5:  Training Loss:    20.9826 Training Accuracy: 0.800676\n",
      "Validation Loss:   122.4744 Validation Accuracy: 0.492800\n",
      "Epoch 13, CIFAR-10 Batch 1:  Training Loss:     8.7620 Training Accuracy: 0.875000\n",
      "Validation Loss:   106.6379 Validation Accuracy: 0.520600\n",
      "Epoch 13, CIFAR-10 Batch 2:  Training Loss:    14.0236 Training Accuracy: 0.810811\n",
      "Validation Loss:   120.2756 Validation Accuracy: 0.497800\n",
      "Epoch 13, CIFAR-10 Batch 3:  Training Loss:    14.1816 Training Accuracy: 0.814189\n",
      "Validation Loss:   122.1967 Validation Accuracy: 0.474600\n",
      "Epoch 13, CIFAR-10 Batch 4:  Training Loss:    21.5329 Training Accuracy: 0.807432\n",
      "Validation Loss:   129.8095 Validation Accuracy: 0.482800\n",
      "Epoch 13, CIFAR-10 Batch 5:  Training Loss:    12.1844 Training Accuracy: 0.807432\n",
      "Validation Loss:   118.1211 Validation Accuracy: 0.490400\n",
      "Epoch 14, CIFAR-10 Batch 1:  Training Loss:     6.5147 Training Accuracy: 0.875000\n",
      "Validation Loss:   103.1009 Validation Accuracy: 0.521000\n",
      "Epoch 14, CIFAR-10 Batch 2:  Training Loss:    12.1892 Training Accuracy: 0.871622\n",
      "Validation Loss:   121.0583 Validation Accuracy: 0.502000\n",
      "Epoch 14, CIFAR-10 Batch 3:  Training Loss:     6.2028 Training Accuracy: 0.891892\n",
      "Validation Loss:   110.8134 Validation Accuracy: 0.510200\n",
      "Epoch 14, CIFAR-10 Batch 4:  Training Loss:    10.2679 Training Accuracy: 0.844595\n",
      "Validation Loss:   109.5645 Validation Accuracy: 0.514200\n",
      "Epoch 14, CIFAR-10 Batch 5:  Training Loss:     6.7090 Training Accuracy: 0.881757\n",
      "Validation Loss:   108.5570 Validation Accuracy: 0.511800\n",
      "Epoch 15, CIFAR-10 Batch 1:  Training Loss:     6.4223 Training Accuracy: 0.891892\n",
      "Validation Loss:   104.0273 Validation Accuracy: 0.519000\n",
      "Epoch 15, CIFAR-10 Batch 2:  Training Loss:    10.6892 Training Accuracy: 0.871622\n",
      "Validation Loss:   118.6671 Validation Accuracy: 0.482400\n",
      "Epoch 15, CIFAR-10 Batch 3:  Training Loss:    12.0970 Training Accuracy: 0.841216\n",
      "Validation Loss:   122.6384 Validation Accuracy: 0.483600\n",
      "Epoch 15, CIFAR-10 Batch 4:  Training Loss:     7.6702 Training Accuracy: 0.864865\n",
      "Validation Loss:   106.1283 Validation Accuracy: 0.511800\n",
      "Epoch 15, CIFAR-10 Batch 5:  Training Loss:     5.9444 Training Accuracy: 0.878378\n",
      "Validation Loss:   112.3441 Validation Accuracy: 0.511200\n",
      "Epoch 16, CIFAR-10 Batch 1:  Training Loss:     7.5629 Training Accuracy: 0.881757\n",
      "Validation Loss:   104.9760 Validation Accuracy: 0.513600\n",
      "Epoch 16, CIFAR-10 Batch 2:  Training Loss:     6.9858 Training Accuracy: 0.885135\n",
      "Validation Loss:   111.1559 Validation Accuracy: 0.502200\n",
      "Epoch 16, CIFAR-10 Batch 3:  Training Loss:     4.1845 Training Accuracy: 0.908784\n",
      "Validation Loss:   100.2144 Validation Accuracy: 0.520400\n",
      "Epoch 16, CIFAR-10 Batch 4:  Training Loss:     4.9845 Training Accuracy: 0.885135\n",
      "Validation Loss:   106.2948 Validation Accuracy: 0.507800\n",
      "Epoch 16, CIFAR-10 Batch 5:  Training Loss:     4.5755 Training Accuracy: 0.915541\n",
      "Validation Loss:   106.6052 Validation Accuracy: 0.502800\n",
      "Epoch 17, CIFAR-10 Batch 1:  Training Loss:     4.5146 Training Accuracy: 0.902027\n",
      "Validation Loss:    99.5130 Validation Accuracy: 0.510800\n",
      "Epoch 17, CIFAR-10 Batch 2:  Training Loss:     2.0049 Training Accuracy: 0.942568\n",
      "Validation Loss:   101.2847 Validation Accuracy: 0.509200\n",
      "Epoch 17, CIFAR-10 Batch 3:  Training Loss:     6.0646 Training Accuracy: 0.871622\n",
      "Validation Loss:   105.1862 Validation Accuracy: 0.511800\n",
      "Epoch 17, CIFAR-10 Batch 4:  Training Loss:     5.2474 Training Accuracy: 0.881757\n",
      "Validation Loss:   101.1300 Validation Accuracy: 0.506800\n",
      "Epoch 17, CIFAR-10 Batch 5:  Training Loss:     4.3626 Training Accuracy: 0.905405\n",
      "Validation Loss:   103.8777 Validation Accuracy: 0.503000\n",
      "Epoch 18, CIFAR-10 Batch 1:  Training Loss:     3.5089 Training Accuracy: 0.915541\n",
      "Validation Loss:   102.4798 Validation Accuracy: 0.519600\n",
      "Epoch 18, CIFAR-10 Batch 2:  Training Loss:     2.4198 Training Accuracy: 0.942568\n",
      "Validation Loss:   103.1463 Validation Accuracy: 0.516600\n",
      "Epoch 18, CIFAR-10 Batch 3:  Training Loss:     4.0759 Training Accuracy: 0.912162\n",
      "Validation Loss:   104.1259 Validation Accuracy: 0.505600\n",
      "Epoch 18, CIFAR-10 Batch 4:  Training Loss:     2.9077 Training Accuracy: 0.932432\n",
      "Validation Loss:    96.6628 Validation Accuracy: 0.518800\n",
      "Epoch 18, CIFAR-10 Batch 5:  Training Loss:     4.2601 Training Accuracy: 0.905405\n",
      "Validation Loss:   105.9459 Validation Accuracy: 0.500800\n",
      "Epoch 19, CIFAR-10 Batch 1:  Training Loss:     3.9267 Training Accuracy: 0.922297\n",
      "Validation Loss:   104.1599 Validation Accuracy: 0.502200\n",
      "Epoch 19, CIFAR-10 Batch 2:  Training Loss:     1.6725 Training Accuracy: 0.952703\n",
      "Validation Loss:   103.2706 Validation Accuracy: 0.520400\n",
      "Epoch 19, CIFAR-10 Batch 3:  Training Loss:     1.9513 Training Accuracy: 0.935811\n",
      "Validation Loss:    98.3879 Validation Accuracy: 0.524000\n",
      "Epoch 19, CIFAR-10 Batch 4:  Training Loss:     3.9766 Training Accuracy: 0.929054\n",
      "Validation Loss:   104.3414 Validation Accuracy: 0.493600\n",
      "Epoch 19, CIFAR-10 Batch 5:  Training Loss:     3.3089 Training Accuracy: 0.925676\n",
      "Validation Loss:   104.3141 Validation Accuracy: 0.499800\n",
      "Epoch 20, CIFAR-10 Batch 1:  Training Loss:     3.0201 Training Accuracy: 0.922297\n",
      "Validation Loss:   104.9502 Validation Accuracy: 0.507000\n",
      "Epoch 20, CIFAR-10 Batch 2:  Training Loss:     1.7765 Training Accuracy: 0.945946\n",
      "Validation Loss:   104.0959 Validation Accuracy: 0.506200\n",
      "Epoch 20, CIFAR-10 Batch 3:  Training Loss:     1.6350 Training Accuracy: 0.949324\n",
      "Validation Loss:    99.8093 Validation Accuracy: 0.515400\n",
      "Epoch 20, CIFAR-10 Batch 4:  Training Loss:     3.8483 Training Accuracy: 0.915541\n",
      "Validation Loss:   106.3391 Validation Accuracy: 0.498600\n",
      "Epoch 20, CIFAR-10 Batch 5:  Training Loss:     1.6557 Training Accuracy: 0.929054\n",
      "Validation Loss:   100.0454 Validation Accuracy: 0.509000\n",
      "Epoch 21, CIFAR-10 Batch 1:  Training Loss:     2.9242 Training Accuracy: 0.932432\n",
      "Validation Loss:   102.1005 Validation Accuracy: 0.507000\n",
      "Epoch 21, CIFAR-10 Batch 2:  Training Loss:     1.7205 Training Accuracy: 0.959459\n",
      "Validation Loss:   103.8658 Validation Accuracy: 0.513400\n",
      "Epoch 21, CIFAR-10 Batch 3:  Training Loss:     2.0177 Training Accuracy: 0.949324\n",
      "Validation Loss:    99.7837 Validation Accuracy: 0.525400\n",
      "Epoch 21, CIFAR-10 Batch 4:  Training Loss:     0.8518 Training Accuracy: 0.959459\n",
      "Validation Loss:    98.4892 Validation Accuracy: 0.517000\n",
      "Epoch 21, CIFAR-10 Batch 5:  Training Loss:     1.3517 Training Accuracy: 0.929054\n",
      "Validation Loss:    97.0487 Validation Accuracy: 0.519600\n",
      "Epoch 22, CIFAR-10 Batch 1:  Training Loss:     3.3008 Training Accuracy: 0.925676\n",
      "Validation Loss:   101.7179 Validation Accuracy: 0.507400\n",
      "Epoch 22, CIFAR-10 Batch 2:  Training Loss:     3.0171 Training Accuracy: 0.902027\n",
      "Validation Loss:   112.0325 Validation Accuracy: 0.475200\n",
      "Epoch 22, CIFAR-10 Batch 3:  Training Loss:     1.3281 Training Accuracy: 0.956081\n",
      "Validation Loss:   102.5210 Validation Accuracy: 0.510600\n",
      "Epoch 22, CIFAR-10 Batch 4:  Training Loss:     2.3717 Training Accuracy: 0.935811\n",
      "Validation Loss:    97.6253 Validation Accuracy: 0.515800\n",
      "Epoch 22, CIFAR-10 Batch 5:  Training Loss:     0.8218 Training Accuracy: 0.966216\n",
      "Validation Loss:    96.2015 Validation Accuracy: 0.521000\n",
      "Epoch 23, CIFAR-10 Batch 1:  Training Loss:     2.4419 Training Accuracy: 0.935811\n",
      "Validation Loss:    95.8359 Validation Accuracy: 0.507400\n",
      "Epoch 23, CIFAR-10 Batch 2:  Training Loss:     2.5875 Training Accuracy: 0.922297\n",
      "Validation Loss:   112.4181 Validation Accuracy: 0.474000\n",
      "Epoch 23, CIFAR-10 Batch 3:  Training Loss:     2.3354 Training Accuracy: 0.905405\n",
      "Validation Loss:   105.1906 Validation Accuracy: 0.494000\n",
      "Epoch 23, CIFAR-10 Batch 4:  Training Loss:     0.6437 Training Accuracy: 0.959459\n",
      "Validation Loss:    96.2363 Validation Accuracy: 0.511200\n",
      "Epoch 23, CIFAR-10 Batch 5:  Training Loss:     1.0257 Training Accuracy: 0.949324\n",
      "Validation Loss:   100.2338 Validation Accuracy: 0.506400\n",
      "Epoch 24, CIFAR-10 Batch 1:  Training Loss:     1.7159 Training Accuracy: 0.952703\n",
      "Validation Loss:    98.1386 Validation Accuracy: 0.502600\n"
     ]
    },
    {
     "name": "stdout",
     "output_type": "stream",
     "text": [
      "Epoch 24, CIFAR-10 Batch 2:  Training Loss:     1.7582 Training Accuracy: 0.932432\n",
      "Validation Loss:   105.4764 Validation Accuracy: 0.485200\n",
      "Epoch 24, CIFAR-10 Batch 3:  Training Loss:     1.0768 Training Accuracy: 0.966216\n",
      "Validation Loss:   108.9537 Validation Accuracy: 0.485600\n",
      "Epoch 24, CIFAR-10 Batch 4:  Training Loss:     1.3887 Training Accuracy: 0.935811\n",
      "Validation Loss:   103.0678 Validation Accuracy: 0.502400\n",
      "Epoch 24, CIFAR-10 Batch 5:  Training Loss:     0.5501 Training Accuracy: 0.956081\n",
      "Validation Loss:   100.0419 Validation Accuracy: 0.501600\n",
      "Epoch 25, CIFAR-10 Batch 1:  Training Loss:     1.7850 Training Accuracy: 0.945946\n",
      "Validation Loss:   102.3395 Validation Accuracy: 0.496800\n",
      "Epoch 25, CIFAR-10 Batch 2:  Training Loss:     0.9151 Training Accuracy: 0.966216\n",
      "Validation Loss:   103.1652 Validation Accuracy: 0.499600\n",
      "Epoch 25, CIFAR-10 Batch 3:  Training Loss:     1.6611 Training Accuracy: 0.929054\n",
      "Validation Loss:   108.4473 Validation Accuracy: 0.490400\n",
      "Epoch 25, CIFAR-10 Batch 4:  Training Loss:     2.5485 Training Accuracy: 0.925676\n",
      "Validation Loss:   107.9171 Validation Accuracy: 0.496400\n",
      "Epoch 25, CIFAR-10 Batch 5:  Training Loss:     0.4843 Training Accuracy: 0.959459\n",
      "Validation Loss:    99.1348 Validation Accuracy: 0.507600\n"
     ]
    }
   ],
   "source": [
    "\"\"\"\n",
    "DON'T MODIFY ANYTHING IN THIS CELL\n",
    "\"\"\"\n",
    "save_model_path = './image_classification'\n",
    "\n",
    "print('Training...')\n",
    "with tf.Session() as sess:\n",
    "    # Initializing the variables\n",
    "    sess.run(tf.global_variables_initializer())\n",
    "    \n",
    "    # Training cycle\n",
    "    for epoch in range(epochs):\n",
    "        # Loop over all batches\n",
    "        n_batches = 5\n",
    "        for batch_i in range(1, n_batches + 1):\n",
    "            for batch_features, batch_labels in helper.load_preprocess_training_batch(batch_i, batch_size):\n",
    "                train_neural_network(sess, optimizer, keep_probability, batch_features, batch_labels)\n",
    "            print('Epoch {:>2}, CIFAR-10 Batch {}:  '.format(epoch + 1, batch_i), end='')\n",
    "            print_stats(sess, batch_features, batch_labels, cost, accuracy)\n",
    "            \n",
    "    # Save Model\n",
    "    saver = tf.train.Saver()\n",
    "    save_path = saver.save(sess, save_model_path)"
   ]
  },
  {
   "cell_type": "markdown",
   "metadata": {},
   "source": [
    "# Checkpoint\n",
    "The model has been saved to disk.\n",
    "## Test Model\n",
    "Test your model against the test dataset.  This will be your final accuracy. You should have an accuracy greater than 50%. If you don't, keep tweaking the model architecture and parameters."
   ]
  },
  {
   "cell_type": "code",
   "execution_count": 90,
   "metadata": {},
   "outputs": [
    {
     "name": "stdout",
     "output_type": "stream",
     "text": [
      "INFO:tensorflow:Restoring parameters from ./image_classification\n",
      "Testing Accuracy: 0.5052676931023597\n",
      "\n"
     ]
    },
    {
     "data": {
      "image/png": "[encoded data removed]",
      "text/plain": [
       "<matplotlib.figure.Figure at 0x10bfea5c668>"
      ]
     },
     "metadata": {
      "image/png": {
       "height": 319,
       "width": 349
      }
     },
     "output_type": "display_data"
    }
   ],
   "source": [
    "\"\"\"\n",
    "DON'T MODIFY ANYTHING IN THIS CELL\n",
    "\"\"\"\n",
    "%matplotlib inline\n",
    "%config InlineBackend.figure_format = 'retina'\n",
    "\n",
    "import tensorflow as tf\n",
    "import pickle\n",
    "import helper\n",
    "import random\n",
    "\n",
    "# Set batch size if not already set\n",
    "try:\n",
    "    if batch_size:\n",
    "        pass\n",
    "except NameError:\n",
    "    batch_size = 64\n",
    "\n",
    "save_model_path = './image_classification'\n",
    "n_samples = 4\n",
    "top_n_predictions = 3\n",
    "\n",
    "def test_model():\n",
    "    \"\"\"\n",
    "    Test the saved model against the test dataset\n",
    "    \"\"\"\n",
    "\n",
    "    test_features, test_labels = pickle.load(open('preprocess_test.p', mode='rb'))\n",
    "    loaded_graph = tf.Graph()\n",
    "\n",
    "    with tf.Session(graph=loaded_graph) as sess:\n",
    "        # Load model\n",
    "        loader = tf.train.import_meta_graph(save_model_path + '.meta')\n",
    "        loader.restore(sess, save_model_path)\n",
    "\n",
    "        # Get Tensors from loaded model\n",
    "        loaded_x = loaded_graph.get_tensor_by_name('x:0')\n",
    "        loaded_y = loaded_graph.get_tensor_by_name('y:0')\n",
    "        loaded_keep_prob = loaded_graph.get_tensor_by_name('keep_prob:0')\n",
    "        loaded_logits = loaded_graph.get_tensor_by_name('logits:0')\n",
    "        loaded_acc = loaded_graph.get_tensor_by_name('accuracy:0')\n",
    "        \n",
    "        # Get accuracy in batches for memory limitations\n",
    "        test_batch_acc_total = 0\n",
    "        test_batch_count = 0\n",
    "        \n",
    "        for test_feature_batch, test_label_batch in helper.batch_features_labels(test_features, test_labels, batch_size):\n",
    "            test_batch_acc_total += sess.run(\n",
    "                loaded_acc,\n",
    "                feed_dict={loaded_x: test_feature_batch, loaded_y: test_label_batch, loaded_keep_prob: 1.0})\n",
    "            test_batch_count += 1\n",
    "\n",
    "        print('Testing Accuracy: {}\\n'.format(test_batch_acc_total/test_batch_count))\n",
    "\n",
    "        # Print Random Samples\n",
    "        random_test_features, random_test_labels = tuple(zip(*random.sample(list(zip(test_features, test_labels)), n_samples)))\n",
    "        random_test_predictions = sess.run(\n",
    "            tf.nn.top_k(tf.nn.softmax(loaded_logits), top_n_predictions),\n",
    "            feed_dict={loaded_x: random_test_features, loaded_y: random_test_labels, loaded_keep_prob: 1.0})\n",
    "        helper.display_image_predictions(random_test_features, random_test_labels, random_test_predictions)\n",
    "\n",
    "\n",
    "test_model()"
   ]
  },
  {
   "cell_type": "markdown",
   "metadata": {},
   "source": [
    "## Why 50-80% Accuracy?\n",
    "You might be wondering why you can't get an accuracy any higher. First things first, 50% isn't bad for a simple CNN.  Pure guessing would get you 10% accuracy. However, you might notice people are getting scores [well above 80%](http://rodrigob.github.io/are_we_there_yet/build/classification_datasets_results.html#43494641522d3130).  That's because we haven't taught you all there is to know about neural networks. We still need to cover a few more techniques.\n",
    "## Submitting This Project\n",
    "When submitting this project, make sure to run all the cells before saving the notebook.  Save the notebook file as \"dlnd_image_classification.ipynb\" and save it as a HTML file under \"File\" -> \"Download as\".  Include the \"helper.py\" and \"problem_unittests.py\" files in your submission."
   ]
  }
 ],
 "metadata": {
  "kernelspec": {
   "display_name": "Python 3",
   "language": "python",
   "name": "python3"
  },
  "language_info": {
   "codemirror_mode": {
    "name": "ipython",
    "version": 3
   },
   "file_extension": ".py",
   "mimetype": "text/x-python",
   "name": "python",
   "nbconvert_exporter": "python",
   "pygments_lexer": "ipython3",
   "version": "3.6.4"
  }
 },
 "nbformat": 4,
 "nbformat_minor": 1
}
