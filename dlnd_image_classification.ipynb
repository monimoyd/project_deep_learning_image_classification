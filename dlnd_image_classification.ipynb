{
 "cells": [
  {
   "cell_type": "markdown",
   "metadata": {
    "collapsed": true
   },
   "source": [
    "# Image Classification\n",
    "In this project, you'll classify images from the [CIFAR-10 dataset](https://www.cs.toronto.edu/~kriz/cifar.html).  The dataset consists of airplanes, dogs, cats, and other objects. You'll preprocess the images, then train a convolutional neural network on all the samples. The images need to be normalized and the labels need to be one-hot encoded.  You'll get to apply what you learned and build a convolutional, max pooling, dropout, and fully connected layers.  At the end, you'll get to see your neural network's predictions on the sample images.\n",
    "## Get the Data\n",
    "Run the following cell to download the [CIFAR-10 dataset for python](https://www.cs.toronto.edu/~kriz/cifar-10-python.tar.gz)."
   ]
  },
  {
   "cell_type": "code",
   "execution_count": 1,
   "metadata": {},
   "outputs": [
    {
     "name": "stderr",
     "output_type": "stream",
     "text": [
      "E:\\anaconda\\lib\\site-packages\\h5py\\__init__.py:36: FutureWarning: Conversion of the second argument of issubdtype from `float` to `np.floating` is deprecated. In future, it will be treated as `np.float64 == np.dtype(float).type`.\n",
      "  from ._conv import register_converters as _register_converters\n"
     ]
    },
    {
     "name": "stdout",
     "output_type": "stream",
     "text": [
      "All files found!\n"
     ]
    }
   ],
   "source": [
    "\"\"\"\n",
    "DON'T MODIFY ANYTHING IN THIS CELL THAT IS BELOW THIS LINE\n",
    "\"\"\"\n",
    "from urllib.request import urlretrieve\n",
    "from os.path import isfile, isdir\n",
    "from tqdm import tqdm\n",
    "import problem_unittests as tests\n",
    "import tarfile\n",
    "\n",
    "cifar10_dataset_folder_path = 'cifar-10-batches-py'\n",
    "\n",
    "# Use Floyd's cifar-10 dataset if present\n",
    "floyd_cifar10_location = '/cifar/cifar-10-python.tar.gz'\n",
    "if isfile(floyd_cifar10_location):\n",
    "    tar_gz_path = floyd_cifar10_location\n",
    "else:\n",
    "    tar_gz_path = 'cifar-10-python.tar.gz'\n",
    "\n",
    "class DLProgress(tqdm):\n",
    "    last_block = 0\n",
    "\n",
    "    def hook(self, block_num=1, block_size=1, total_size=None):\n",
    "        self.total = total_size\n",
    "        self.update((block_num - self.last_block) * block_size)\n",
    "        self.last_block = block_num\n",
    "\n",
    "if not isfile(tar_gz_path):\n",
    "    with DLProgress(unit='B', unit_scale=True, miniters=1, desc='CIFAR-10 Dataset') as pbar:\n",
    "        urlretrieve(\n",
    "            'https://www.cs.toronto.edu/~kriz/cifar-10-python.tar.gz',\n",
    "            tar_gz_path,\n",
    "            pbar.hook)\n",
    "\n",
    "if not isdir(cifar10_dataset_folder_path):\n",
    "    with tarfile.open(tar_gz_path) as tar:\n",
    "        tar.extractall()\n",
    "        tar.close()\n",
    "\n",
    "\n",
    "tests.test_folder_path(cifar10_dataset_folder_path)"
   ]
  },
  {
   "cell_type": "markdown",
   "metadata": {},
   "source": [
    "## Explore the Data\n",
    "The dataset is broken into batches to prevent your machine from running out of memory.  The CIFAR-10 dataset consists of 5 batches, named `data_batch_1`, `data_batch_2`, etc.. Each batch contains the labels and images that are one of the following:\n",
    "* airplane\n",
    "* automobile\n",
    "* bird\n",
    "* cat\n",
    "* deer\n",
    "* dog\n",
    "* frog\n",
    "* horse\n",
    "* ship\n",
    "* truck\n",
    "\n",
    "Understanding a dataset is part of making predictions on the data.  Play around with the code cell below by changing the `batch_id` and `sample_id`. The `batch_id` is the id for a batch (1-5). The `sample_id` is the id for a image and label pair in the batch.\n",
    "\n",
    "Ask yourself \"What are all possible labels?\", \"What is the range of values for the image data?\", \"Are the labels in order or random?\".  Answers to questions like these will help you preprocess the data and end up with better predictions."
   ]
  },
  {
   "cell_type": "code",
   "execution_count": 2,
   "metadata": {},
   "outputs": [
    {
     "name": "stdout",
     "output_type": "stream",
     "text": [
      "\n",
      "Stats of batch 2:\n",
      "Samples: 10000\n",
      "Label Counts: {0: 984, 1: 1007, 2: 1010, 3: 995, 4: 1010, 5: 988, 6: 1008, 7: 1026, 8: 987, 9: 985}\n",
      "First 20 Labels: [1, 6, 6, 8, 8, 3, 4, 6, 0, 6, 0, 3, 6, 6, 5, 4, 8, 3, 2, 6]\n",
      "\n",
      "Example of Image 8:\n",
      "Image - Min Value: 31 Max Value: 255\n",
      "Image - Shape: (32, 32, 3)\n",
      "Label - Label Id: 0 Name: airplane\n"
     ]
    },
    {
     "data": {
      "image/png": "[encoded data removed]",
      "text/plain": [
       "<matplotlib.figure.Figure at 0x10aa5e72160>"
      ]
     },
     "metadata": {
      "image/png": {
       "height": 250,
       "width": 253
      }
     },
     "output_type": "display_data"
    }
   ],
   "source": [
    "%matplotlib inline\n",
    "%config InlineBackend.figure_format = 'retina'\n",
    "\n",
    "import helper\n",
    "import numpy as np\n",
    "\n",
    "# Explore the dataset\n",
    "batch_id = 2\n",
    "sample_id = 8\n",
    "helper.display_stats(cifar10_dataset_folder_path, batch_id, sample_id)"
   ]
  },
  {
   "cell_type": "markdown",
   "metadata": {},
   "source": [
    "## Implement Preprocess Functions\n",
    "### Normalize\n",
    "In the cell below, implement the `normalize` function to take in image data, `x`, and return it as a normalized Numpy array. The values should be in the range of 0 to 1, inclusive.  The return object should be the same shape as `x`."
   ]
  },
  {
   "cell_type": "code",
   "execution_count": 3,
   "metadata": {},
   "outputs": [
    {
     "name": "stdout",
     "output_type": "stream",
     "text": [
      "Tests Passed\n"
     ]
    }
   ],
   "source": [
    "def normalize(x):\n",
    "    \"\"\"\n",
    "    Normalize a list of sample image data in the range of 0 to 1\n",
    "    : x: List of image data.  The image shape is (32, 32, 3)\n",
    "    : return: Numpy array of normalize data\n",
    "    \"\"\"\n",
    "    # Implement Function\n",
    "    return x/255\n",
    "\n",
    "\n",
    "\"\"\"\n",
    "DON'T MODIFY ANYTHING IN THIS CELL THAT IS BELOW THIS LINE\n",
    "\"\"\"\n",
    "tests.test_normalize(normalize)"
   ]
  },
  {
   "cell_type": "markdown",
   "metadata": {},
   "source": [
    "### One-hot encode\n",
    "Just like the previous code cell, you'll be implementing a function for preprocessing.  This time, you'll implement the `one_hot_encode` function. The input, `x`, are a list of labels.  Implement the function to return the list of labels as One-Hot encoded Numpy array.  The possible values for labels are 0 to 9. The one-hot encoding function should return the same encoding for each value between each call to `one_hot_encode`.  Make sure to save the map of encodings outside the function.\n",
    "\n",
    "Hint: Don't reinvent the wheel."
   ]
  },
  {
   "cell_type": "code",
   "execution_count": 4,
   "metadata": {},
   "outputs": [
    {
     "name": "stdout",
     "output_type": "stream",
     "text": [
      "Tests Passed\n"
     ]
    }
   ],
   "source": [
    "def one_hot_encode(x):\n",
    "    \"\"\"\n",
    "    One hot encode a list of sample labels. Return a one-hot encoded vector for each label.\n",
    "    : x: List of sample Labels\n",
    "    : return: Numpy array of one-hot encoded labels\n",
    "    \"\"\"\n",
    "    # Implement Function\n",
    "    \n",
    "    max_value = 10\n",
    "    if not \"encode_map\" in globals(): \n",
    "        global encode_map\n",
    "        encode_map = {}\n",
    "        \n",
    "    value = encode_map.get(str(x))\n",
    "    if value is not None:\n",
    "        return value\n",
    "  \n",
    "    hot_encode = np.eye(max_value)[x]\n",
    "    encode_map[str(x)] = hot_encode\n",
    "    return hot_encode\n",
    "\n",
    "\n",
    "\"\"\"\n",
    "DON'T MODIFY ANYTHING IN THIS CELL THAT IS BELOW THIS LINE\n",
    "\"\"\"\n",
    "tests.test_one_hot_encode(one_hot_encode)"
   ]
  },
  {
   "cell_type": "markdown",
   "metadata": {},
   "source": [
    "### Randomize Data\n",
    "As you saw from exploring the data above, the order of the samples are randomized.  It doesn't hurt to randomize it again, but you don't need to for this dataset."
   ]
  },
  {
   "cell_type": "markdown",
   "metadata": {},
   "source": [
    "## Preprocess all the data and save it\n",
    "Running the code cell below will preprocess all the CIFAR-10 data and save it to file. The code below also uses 10% of the training data for validation."
   ]
  },
  {
   "cell_type": "code",
   "execution_count": 5,
   "metadata": {},
   "outputs": [],
   "source": [
    "\"\"\"\n",
    "DON'T MODIFY ANYTHING IN THIS CELL\n",
    "\"\"\"\n",
    "# Preprocess Training, Validation, and Testing Data\n",
    "helper.preprocess_and_save_data(cifar10_dataset_folder_path, normalize, one_hot_encode)"
   ]
  },
  {
   "cell_type": "markdown",
   "metadata": {},
   "source": [
    "# Check Point\n",
    "This is your first checkpoint.  If you ever decide to come back to this notebook or have to restart the notebook, you can start from here.  The preprocessed data has been saved to disk."
   ]
  },
  {
   "cell_type": "code",
   "execution_count": 6,
   "metadata": {},
   "outputs": [],
   "source": [
    "\"\"\"\n",
    "DON'T MODIFY ANYTHING IN THIS CELL\n",
    "\"\"\"\n",
    "import pickle\n",
    "import problem_unittests as tests\n",
    "import helper\n",
    "\n",
    "# Load the Preprocessed Validation data\n",
    "valid_features, valid_labels = pickle.load(open('preprocess_validation.p', mode='rb'))"
   ]
  },
  {
   "cell_type": "markdown",
   "metadata": {},
   "source": [
    "## Build the network\n",
    "For the neural network, you'll build each layer into a function.  Most of the code you've seen has been outside of functions. To test your code more thoroughly, we require that you put each layer in a function.  This allows us to give you better feedback and test for simple mistakes using our unittests before you submit your project.\n",
    "\n",
    ">**Note:** If you're finding it hard to dedicate enough time for this course each week, we've provided a small shortcut to this part of the project. In the next couple of problems, you'll have the option to use classes from the [TensorFlow Layers](https://www.tensorflow.org/api_docs/python/tf/layers) or [TensorFlow Layers (contrib)](https://www.tensorflow.org/api_guides/python/contrib.layers) packages to build each layer, except the layers you build in the \"Convolutional and Max Pooling Layer\" section.  TF Layers is similar to Keras's and TFLearn's abstraction to layers, so it's easy to pickup.\n",
    "\n",
    ">However, if you would like to get the most out of this course, try to solve all the problems _without_ using anything from the TF Layers packages. You **can** still use classes from other packages that happen to have the same name as ones you find in TF Layers! For example, instead of using the TF Layers version of the `conv2d` class, [tf.layers.conv2d](https://www.tensorflow.org/api_docs/python/tf/layers/conv2d), you would want to use the TF Neural Network version of `conv2d`, [tf.nn.conv2d](https://www.tensorflow.org/api_docs/python/tf/nn/conv2d). \n",
    "\n",
    "Let's begin!\n",
    "\n",
    "### Input\n",
    "The neural network needs to read the image data, one-hot encoded labels, and dropout keep probability. Implement the following functions\n",
    "* Implement `neural_net_image_input`\n",
    " * Return a [TF Placeholder](https://www.tensorflow.org/api_docs/python/tf/placeholder)\n",
    " * Set the shape using `image_shape` with batch size set to `None`.\n",
    " * Name the TensorFlow placeholder \"x\" using the TensorFlow `name` parameter in the [TF Placeholder](https://www.tensorflow.org/api_docs/python/tf/placeholder).\n",
    "* Implement `neural_net_label_input`\n",
    " * Return a [TF Placeholder](https://www.tensorflow.org/api_docs/python/tf/placeholder)\n",
    " * Set the shape using `n_classes` with batch size set to `None`.\n",
    " * Name the TensorFlow placeholder \"y\" using the TensorFlow `name` parameter in the [TF Placeholder](https://www.tensorflow.org/api_docs/python/tf/placeholder).\n",
    "* Implement `neural_net_keep_prob_input`\n",
    " * Return a [TF Placeholder](https://www.tensorflow.org/api_docs/python/tf/placeholder) for dropout keep probability.\n",
    " * Name the TensorFlow placeholder \"keep_prob\" using the TensorFlow `name` parameter in the [TF Placeholder](https://www.tensorflow.org/api_docs/python/tf/placeholder).\n",
    "\n",
    "These names will be used at the end of the project to load your saved model.\n",
    "\n",
    "Note: `None` for shapes in TensorFlow allow for a dynamic size."
   ]
  },
  {
   "cell_type": "code",
   "execution_count": 7,
   "metadata": {},
   "outputs": [
    {
     "name": "stdout",
     "output_type": "stream",
     "text": [
      "Image Input Tests Passed.\n",
      "Label Input Tests Passed.\n",
      "Keep Prob Tests Passed.\n"
     ]
    }
   ],
   "source": [
    "import tensorflow as tf\n",
    "\n",
    "def neural_net_image_input(image_shape):\n",
    "    \"\"\"\n",
    "    Return a Tensor for a batch of image input\n",
    "    : image_shape: Shape of the images\n",
    "    : return: Tensor for image input.\n",
    "    \"\"\"\n",
    "    # Implement Function\n",
    "    return tf.placeholder(tf.float32, [None, image_shape[0], image_shape[1], image_shape[2]], \"x\")\n",
    "\n",
    "\n",
    "def neural_net_label_input(n_classes):\n",
    "    \"\"\"\n",
    "    Return a Tensor for a batch of label input\n",
    "    : n_classes: Number of classes\n",
    "    : return: Tensor for label input.\n",
    "    \"\"\"\n",
    "    # Implement Function\n",
    "    return tf.placeholder(tf.float32,  [None, n_classes], \"y\")\n",
    "\n",
    "\n",
    "def neural_net_keep_prob_input():\n",
    "    \"\"\"\n",
    "    Return a Tensor for keep probability\n",
    "    : return: Tensor for keep probability.\n",
    "    \"\"\"\n",
    "    # Implement Function\n",
    "    return tf.placeholder(tf.float32, None, \"keep_prob\")\n",
    "\n",
    "\n",
    "\"\"\"\n",
    "DON'T MODIFY ANYTHING IN THIS CELL THAT IS BELOW THIS LINE\n",
    "\"\"\"\n",
    "tf.reset_default_graph()\n",
    "tests.test_nn_image_inputs(neural_net_image_input)\n",
    "tests.test_nn_label_inputs(neural_net_label_input)\n",
    "tests.test_nn_keep_prob_inputs(neural_net_keep_prob_input)"
   ]
  },
  {
   "cell_type": "markdown",
   "metadata": {},
   "source": [
    "### Convolution and Max Pooling Layer\n",
    "Convolution layers have a lot of success with images. For this code cell, you should implement the function `conv2d_maxpool` to apply convolution then max pooling:\n",
    "* Create the weight and bias using `conv_ksize`, `conv_num_outputs` and the shape of `x_tensor`.\n",
    "* Apply a convolution to `x_tensor` using weight and `conv_strides`.\n",
    " * We recommend you use same padding, but you're welcome to use any padding.\n",
    "* Add bias\n",
    "* Add a nonlinear activation to the convolution.\n",
    "* Apply Max Pooling using `pool_ksize` and `pool_strides`.\n",
    " * We recommend you use same padding, but you're welcome to use any padding.\n",
    "\n",
    "**Note:** You **can't** use [TensorFlow Layers](https://www.tensorflow.org/api_docs/python/tf/layers) or [TensorFlow Layers (contrib)](https://www.tensorflow.org/api_guides/python/contrib.layers) for **this** layer, but you can still use TensorFlow's [Neural Network](https://www.tensorflow.org/api_docs/python/tf/nn) package. You may still use the shortcut option for all the **other** layers."
   ]
  },
  {
   "cell_type": "code",
   "execution_count": 8,
   "metadata": {},
   "outputs": [
    {
     "name": "stdout",
     "output_type": "stream",
     "text": [
      "Tests Passed\n"
     ]
    }
   ],
   "source": [
    "def conv2d_maxpool(x_tensor, conv_num_outputs, conv_ksize, conv_strides, pool_ksize, pool_strides):\n",
    "    \"\"\"\n",
    "    Apply convolution then max pooling to x_tensor\n",
    "    :param x_tensor: TensorFlow Tensor\n",
    "    :param conv_num_outputs: Number of outputs for the convolutional layer\n",
    "    :param conv_ksize: kernal size 2-D Tuple for the convolutional layer\n",
    "    :param conv_strides: Stride 2-D Tuple for convolution\n",
    "    :param pool_ksize: kernal size 2-D Tuple for pool\n",
    "    :param pool_strides: Stride 2-D Tuple for pool\n",
    "    : return: A tensor that represents convolution and max pooling of x_tensor\n",
    "    \"\"\"\n",
    "    # Implement Function\n",
    " \n",
    "    x_tensor_shape = x_tensor.get_shape()\n",
    "    no_of_channels = int(str(x_tensor_shape[3]))\n",
    " \n",
    "    W = tf.Variable(tf.random_normal([conv_ksize[0], conv_ksize[1], no_of_channels, conv_num_outputs]))\n",
    "    b = tf.Variable(tf.random_normal([conv_num_outputs]))\n",
    "    x_tensor = tf.nn.conv2d(x_tensor, W, strides=[1, conv_strides[0], conv_strides[1], 1], padding='SAME')\n",
    "    x_tensor = tf.nn.bias_add(x_tensor, b)\n",
    "    x_tensor = tf.nn.relu(x_tensor)\n",
    "    \n",
    "\n",
    "    return tf.nn.max_pool(\n",
    "        x_tensor,\n",
    "        ksize=[1, pool_ksize[0], pool_ksize[1], 1],\n",
    "        strides=[1, pool_strides[0], pool_strides[1], 1],\n",
    "        padding='SAME')    \n",
    "\n",
    "\"\"\"\n",
    "DON'T MODIFY ANYTHING IN THIS CELL THAT IS BELOW THIS LINE\n",
    "\"\"\"\n",
    "tests.test_con_pool(conv2d_maxpool)"
   ]
  },
  {
   "cell_type": "markdown",
   "metadata": {},
   "source": [
    "### Flatten Layer\n",
    "Implement the `flatten` function to change the dimension of `x_tensor` from a 4-D tensor to a 2-D tensor.  The output should be the shape (*Batch Size*, *Flattened Image Size*). Shortcut option: you can use classes from the [TensorFlow Layers](https://www.tensorflow.org/api_docs/python/tf/layers) or [TensorFlow Layers (contrib)](https://www.tensorflow.org/api_guides/python/contrib.layers) packages for this layer. For more of a challenge, only use other TensorFlow packages."
   ]
  },
  {
   "cell_type": "code",
   "execution_count": 9,
   "metadata": {},
   "outputs": [
    {
     "name": "stdout",
     "output_type": "stream",
     "text": [
      "Tests Passed\n"
     ]
    }
   ],
   "source": [
    "def flatten(x_tensor):\n",
    "    \"\"\"\n",
    "    Flatten x_tensor to (Batch Size, Flattened Image Size)\n",
    "    : x_tensor: A tensor of size (Batch Size, ...), where ... are the image dimensions.\n",
    "    : return: A tensor of size (Batch Size, Flattened Image Size).\n",
    "    \"\"\"\n",
    "    # Implement Function\n",
    "    return tf.contrib.layers.flatten(x_tensor)\n",
    "\n",
    "\n",
    "\"\"\"\n",
    "DON'T MODIFY ANYTHING IN THIS CELL THAT IS BELOW THIS LINE\n",
    "\"\"\"\n",
    "tests.test_flatten(flatten)"
   ]
  },
  {
   "cell_type": "markdown",
   "metadata": {},
   "source": [
    "### Fully-Connected Layer\n",
    "Implement the `fully_conn` function to apply a fully connected layer to `x_tensor` with the shape (*Batch Size*, *num_outputs*). Shortcut option: you can use classes from the [TensorFlow Layers](https://www.tensorflow.org/api_docs/python/tf/layers) or [TensorFlow Layers (contrib)](https://www.tensorflow.org/api_guides/python/contrib.layers) packages for this layer. For more of a challenge, only use other TensorFlow packages."
   ]
  },
  {
   "cell_type": "code",
   "execution_count": 10,
   "metadata": {},
   "outputs": [
    {
     "name": "stdout",
     "output_type": "stream",
     "text": [
      "Tests Passed\n"
     ]
    }
   ],
   "source": [
    "def fully_conn(x_tensor, num_outputs):\n",
    "    \"\"\"\n",
    "    Apply a fully connected layer to x_tensor using weight and bias\n",
    "    : x_tensor: A 2-D tensor where the first dimension is batch size.\n",
    "    : num_outputs: The number of output that the new tensor should be.\n",
    "    : return: A 2-D tensor where the second dimension is num_outputs.\n",
    "    \"\"\"\n",
    "    # Implement Function\n",
    "    return tf.contrib.layers.fully_connected(x_tensor, num_outputs, activation_fn=tf.nn.relu )\n",
    "   \n",
    "\n",
    "\"\"\"\n",
    "DON'T MODIFY ANYTHING IN THIS CELL THAT IS BELOW THIS LINE\n",
    "\"\"\"\n",
    "tests.test_fully_conn(fully_conn)"
   ]
  },
  {
   "cell_type": "markdown",
   "metadata": {},
   "source": [
    "### Output Layer\n",
    "Implement the `output` function to apply a fully connected layer to `x_tensor` with the shape (*Batch Size*, *num_outputs*). Shortcut option: you can use classes from the [TensorFlow Layers](https://www.tensorflow.org/api_docs/python/tf/layers) or [TensorFlow Layers (contrib)](https://www.tensorflow.org/api_guides/python/contrib.layers) packages for this layer. For more of a challenge, only use other TensorFlow packages.\n",
    "\n",
    "**Note:** Activation, softmax, or cross entropy should **not** be applied to this."
   ]
  },
  {
   "cell_type": "code",
   "execution_count": 11,
   "metadata": {},
   "outputs": [
    {
     "name": "stdout",
     "output_type": "stream",
     "text": [
      "Tests Passed\n"
     ]
    }
   ],
   "source": [
    "def output(x_tensor, num_outputs):\n",
    "    \"\"\"\n",
    "    Apply a output layer to x_tensor using weight and bias\n",
    "    : x_tensor: A 2-D tensor where the first dimension is batch size.\n",
    "    : num_outputs: The number of output that the new tensor should be.\n",
    "    : return: A 2-D tensor where the second dimension is num_outputs.\n",
    "    \"\"\"\n",
    "    # Implement Function\n",
    "    x_tensor_shape = x_tensor[0].get_shape()\n",
    "    batch_size = int(str(x_tensor_shape[0]))\n",
    "    W = tf.Variable(tf.random_normal([batch_size, num_outputs]))\n",
    "    b = tf.Variable(tf.random_normal([num_outputs]))\n",
    "    \n",
    "    return tf.add(tf.matmul(x_tensor, W), b)\n",
    "\n",
    "\n",
    "\"\"\"\n",
    "DON'T MODIFY ANYTHING IN THIS CELL THAT IS BELOW THIS LINE\n",
    "\"\"\"\n",
    "tests.test_output(output)"
   ]
  },
  {
   "cell_type": "markdown",
   "metadata": {},
   "source": [
    "### Create Convolutional Model\n",
    "Implement the function `conv_net` to create a convolutional neural network model. The function takes in a batch of images, `x`, and outputs logits.  Use the layers you created above to create this model:\n",
    "\n",
    "* Apply 1, 2, or 3 Convolution and Max Pool layers\n",
    "* Apply a Flatten Layer\n",
    "* Apply 1, 2, or 3 Fully Connected Layers\n",
    "* Apply an Output Layer\n",
    "* Return the output\n",
    "* Apply [TensorFlow's Dropout](https://www.tensorflow.org/api_docs/python/tf/nn/dropout) to one or more layers in the model using `keep_prob`. "
   ]
  },
  {
   "cell_type": "code",
   "execution_count": 12,
   "metadata": {},
   "outputs": [
    {
     "name": "stdout",
     "output_type": "stream",
     "text": [
      "WARNING:tensorflow:From <ipython-input-12-f19bd08bd0cd>:70: softmax_cross_entropy_with_logits (from tensorflow.python.ops.nn_ops) is deprecated and will be removed in a future version.\n",
      "Instructions for updating:\n",
      "\n",
      "Future major versions of TensorFlow will allow gradients to flow\n",
      "into the labels input on backprop by default.\n",
      "\n",
      "See @{tf.nn.softmax_cross_entropy_with_logits_v2}.\n",
      "\n",
      "Neural Network Built!\n"
     ]
    }
   ],
   "source": [
    "def conv_net(x, keep_prob):\n",
    "    \"\"\"\n",
    "    Create a convolutional neural network model\n",
    "    : x: Placeholder tensor that holds image data.\n",
    "    : keep_prob: Placeholder tensor that hold dropout keep probability.\n",
    "    : return: Tensor that represents logits\n",
    "    \"\"\"\n",
    "    # Apply 1, 2, or 3 Convolution and Max Pool layers\n",
    "    # Play around with different number of outputs, kernel size and stride\n",
    "    # Function Definition from Above:\n",
    "    #   conv2d_maxpool(x_tensor, conv_num_outputs, conv_ksize, conv_strides, pool_ksize, pool_strides)\n",
    "    x = conv2d_maxpool(x, 128, (4,4), (2,2), (2,2), (1,1))\n",
    "    x = conv2d_maxpool(x, 256, (4,4), (1,1), (1,1), (1,1))  \n",
    "     \n",
    "   \n",
    "    \n",
    "    # Apply a Flatten Layer\n",
    "    # Function Definition from Above:\n",
    "    #   flatten(x_tensor)\n",
    "    x = flatten(x)\n",
    "    \n",
    "  \n",
    "    # Apply 1, 2, or 3 Fully Connected Layers\n",
    "    #  Play around with different number of outputs\n",
    "    # Function Definition from Above:\n",
    "    #   fully_conn(x_tensor, num_outputs)\n",
    "    num_outputs = 256\n",
    "    x = fully_conn(x, num_outputs)\n",
    "    x = tf.nn.dropout(x, keep_prob)\n",
    "    num_outputs = 128\n",
    "    x = fully_conn(x, num_outputs)\n",
    "   \n",
    "    \n",
    "    \n",
    "    # Apply an Output Layer\n",
    "    # Set this to the number of classes\n",
    "    # Function Definition from Above:\n",
    "    #   output(x_tensor, num_outputs)\n",
    "    num_outputs = 10\n",
    "    x = output(x, num_outputs)\n",
    "    \n",
    "    \n",
    "    # return output\n",
    "    return x\n",
    "\n",
    "\n",
    "\"\"\"\n",
    "DON'T MODIFY ANYTHING IN THIS CELL THAT IS BELOW THIS LINE\n",
    "\"\"\"\n",
    "\n",
    "##############################\n",
    "## Build the Neural Network ##\n",
    "##############################\n",
    "\n",
    "# Remove previous weights, bias, inputs, etc..\n",
    "tf.reset_default_graph()\n",
    "\n",
    "# Inputs\n",
    "x = neural_net_image_input((32, 32, 3))\n",
    "y = neural_net_label_input(10)\n",
    "keep_prob = neural_net_keep_prob_input()\n",
    "\n",
    "# Model\n",
    "logits = conv_net(x, keep_prob)\n",
    "\n",
    "# Name logits Tensor, so that is can be loaded from disk after training\n",
    "logits = tf.identity(logits, name='logits')\n",
    "\n",
    "# Loss and Optimizer\n",
    "cost = tf.reduce_mean(tf.nn.softmax_cross_entropy_with_logits(logits=logits, labels=y))\n",
    "optimizer = tf.train.AdamOptimizer().minimize(cost)\n",
    "\n",
    "# Accuracy\n",
    "correct_pred = tf.equal(tf.argmax(logits, 1), tf.argmax(y, 1))\n",
    "accuracy = tf.reduce_mean(tf.cast(correct_pred, tf.float32), name='accuracy')\n",
    "\n",
    "tests.test_conv_net(conv_net)"
   ]
  },
  {
   "cell_type": "markdown",
   "metadata": {},
   "source": [
    "## Train the Neural Network\n",
    "### Single Optimization\n",
    "Implement the function `train_neural_network` to do a single optimization.  The optimization should use `optimizer` to optimize in `session` with a `feed_dict` of the following:\n",
    "* `x` for image input\n",
    "* `y` for labels\n",
    "* `keep_prob` for keep probability for dropout\n",
    "\n",
    "This function will be called for each batch, so `tf.global_variables_initializer()` has already been called.\n",
    "\n",
    "Note: Nothing needs to be returned. This function is only optimizing the neural network."
   ]
  },
  {
   "cell_type": "code",
   "execution_count": 13,
   "metadata": {},
   "outputs": [
    {
     "name": "stdout",
     "output_type": "stream",
     "text": [
      "Tests Passed\n"
     ]
    }
   ],
   "source": [
    "def train_neural_network(session, optimizer, keep_probability, feature_batch, label_batch):\n",
    "    \"\"\"\n",
    "    Optimize the session on a batch of images and labels\n",
    "    : session: Current TensorFlow session\n",
    "    : optimizer: TensorFlow optimizer function\n",
    "    : keep_probability: keep probability\n",
    "    : feature_batch: Batch of Numpy image data\n",
    "    : label_batch: Batch of Numpy label data\n",
    "    \"\"\"\n",
    "    # Implement Function\n",
    "    session.run(optimizer, feed_dict={x: feature_batch,\n",
    "                                   y: label_batch,\n",
    "                                   keep_prob: keep_probability})\n",
    "\n",
    "\n",
    "\n",
    "\"\"\"\n",
    "DON'T MODIFY ANYTHING IN THIS CELL THAT IS BELOW THIS LINE\n",
    "\"\"\"\n",
    "tests.test_train_nn(train_neural_network)"
   ]
  },
  {
   "cell_type": "markdown",
   "metadata": {},
   "source": [
    "### Show Stats\n",
    "Implement the function `print_stats` to print loss and validation accuracy.  Use the global variables `valid_features` and `valid_labels` to calculate validation accuracy.  Use a keep probability of `1.0` to calculate the loss and validation accuracy."
   ]
  },
  {
   "cell_type": "code",
   "execution_count": 14,
   "metadata": {},
   "outputs": [],
   "source": [
    "def print_stats(session, feature_batch, label_batch, cost, accuracy):\n",
    "    \"\"\"\n",
    "    Print information about loss and validation accuracy\n",
    "    : session: Current TensorFlow session\n",
    "    : feature_batch: Batch of Numpy image data\n",
    "    : label_batch: Batch of Numpy label data\n",
    "    : cost: TensorFlow cost function\n",
    "    : accuracy: TensorFlow accuracy function\n",
    "    \"\"\"\n",
    "    # Implement Function\n",
    "    global valid_features\n",
    "    global valid_labels\n",
    "    \n",
    "    training_loss = sess.run(cost, feed_dict={\n",
    "                x: feature_batch,\n",
    "                y: label_batch,\n",
    "                keep_prob: 1.})\n",
    "    \n",
    "    training_accuracy = sess.run(accuracy, feed_dict={\n",
    "                x: feature_batch,\n",
    "                y: label_batch,\n",
    "                keep_prob: 1.})\n",
    "  \n",
    "    validation_loss = sess.run(cost, feed_dict={\n",
    "                x: valid_features,\n",
    "                y: valid_labels,\n",
    "                keep_prob: 1.})\n",
    "    \n",
    "    validation_accuracy = sess.run(accuracy, feed_dict={\n",
    "                x: valid_features,\n",
    "                y: valid_labels,\n",
    "                keep_prob: 1.})\n",
    "     \n",
    "    print('Training Loss: {:>10.4f} Training Accuracy: {:.6f}'.format(\n",
    "                                                              training_loss,\n",
    "                                                              training_accuracy))\n",
    "    \n",
    "    print('Validation Loss: {:>10.4f} Validation Accuracy: {:.6f}'.format(\n",
    "                                                                  validation_loss,\n",
    "                                                                  validation_accuracy))\n",
    "\n",
    "  "
   ]
  },
  {
   "cell_type": "markdown",
   "metadata": {},
   "source": [
    "### Hyperparameters\n",
    "Tune the following parameters:\n",
    "* Set `epochs` to the number of iterations until the network stops learning or start overfitting\n",
    "* Set `batch_size` to the highest number that your machine has memory for.  Most people set them to common sizes of memory:\n",
    " * 64\n",
    " * 128\n",
    " * 256\n",
    " * ...\n",
    "* Set `keep_probability` to the probability of keeping a node using dropout"
   ]
  },
  {
   "cell_type": "code",
   "execution_count": 16,
   "metadata": {},
   "outputs": [],
   "source": [
    "# TODO: Tune Parameters\n",
    "epochs = 25\n",
    "batch_size = 512\n",
    "keep_probability = 0.70"
   ]
  },
  {
   "cell_type": "markdown",
   "metadata": {},
   "source": [
    "### Train on a Single CIFAR-10 Batch\n",
    "Instead of training the neural network on all the CIFAR-10 batches of data, let's use a single batch. This should save time while you iterate on the model to get a better accuracy.  Once the final validation accuracy is 50% or greater, run the model on all the data in the next section."
   ]
  },
  {
   "cell_type": "code",
   "execution_count": 20,
   "metadata": {
    "scrolled": false
   },
   "outputs": [
    {
     "name": "stdout",
     "output_type": "stream",
     "text": [
      "Checking the Training on a Single Batch...\n",
      "Epoch  1, CIFAR-10 Batch 1:  Training Loss: 46767.0352 Training Accuracy: 0.175676\n",
      "Validation Loss: 44193.0898 Validation Accuracy: 0.177200\n",
      "Epoch  2, CIFAR-10 Batch 1:  Training Loss: 14386.3633 Training Accuracy: 0.216216\n",
      "Validation Loss: 13513.6514 Validation Accuracy: 0.226000\n",
      "Epoch  3, CIFAR-10 Batch 1:  Training Loss:  5055.7993 Training Accuracy: 0.314189\n",
      "Validation Loss:  4507.1509 Validation Accuracy: 0.325800\n",
      "Epoch  4, CIFAR-10 Batch 1:  Training Loss:  1683.3539 Training Accuracy: 0.435811\n",
      "Validation Loss:  1867.1570 Validation Accuracy: 0.411400\n",
      "Epoch  5, CIFAR-10 Batch 1:  Training Loss:   826.0342 Training Accuracy: 0.550676\n",
      "Validation Loss:  1166.0958 Validation Accuracy: 0.426400\n",
      "Epoch  6, CIFAR-10 Batch 1:  Training Loss:  1315.5254 Training Accuracy: 0.577703\n",
      "Validation Loss:  1726.6600 Validation Accuracy: 0.427000\n",
      "Epoch  7, CIFAR-10 Batch 1:  Training Loss:  1240.0491 Training Accuracy: 0.476351\n",
      "Validation Loss:  1708.0620 Validation Accuracy: 0.364400\n",
      "Epoch  8, CIFAR-10 Batch 1:  Training Loss:  1362.5247 Training Accuracy: 0.523649\n",
      "Validation Loss:  1762.5874 Validation Accuracy: 0.375800\n",
      "Epoch  9, CIFAR-10 Batch 1:  Training Loss:  1239.1276 Training Accuracy: 0.577703\n",
      "Validation Loss:  1980.8396 Validation Accuracy: 0.415800\n",
      "Epoch 10, CIFAR-10 Batch 1:  Training Loss:   559.8583 Training Accuracy: 0.645270\n",
      "Validation Loss:  1300.4712 Validation Accuracy: 0.415800\n",
      "Epoch 11, CIFAR-10 Batch 1:  Training Loss:   157.4788 Training Accuracy: 0.804054\n",
      "Validation Loss:   769.7993 Validation Accuracy: 0.492400\n",
      "Epoch 12, CIFAR-10 Batch 1:  Training Loss:    99.1339 Training Accuracy: 0.834459\n",
      "Validation Loss:   668.2792 Validation Accuracy: 0.484600\n",
      "Epoch 13, CIFAR-10 Batch 1:  Training Loss:   303.9730 Training Accuracy: 0.722973\n",
      "Validation Loss:   980.4094 Validation Accuracy: 0.450800\n",
      "Epoch 14, CIFAR-10 Batch 1:  Training Loss:   239.8075 Training Accuracy: 0.736486\n",
      "Validation Loss:  1067.4644 Validation Accuracy: 0.397400\n",
      "Epoch 15, CIFAR-10 Batch 1:  Training Loss:    78.8147 Training Accuracy: 0.861486\n",
      "Validation Loss:   739.1755 Validation Accuracy: 0.488800\n",
      "Epoch 16, CIFAR-10 Batch 1:  Training Loss:   313.8536 Training Accuracy: 0.797297\n",
      "Validation Loss:  1090.2679 Validation Accuracy: 0.469400\n",
      "Epoch 17, CIFAR-10 Batch 1:  Training Loss:   164.2564 Training Accuracy: 0.766892\n",
      "Validation Loss:   926.8314 Validation Accuracy: 0.442800\n",
      "Epoch 18, CIFAR-10 Batch 1:  Training Loss:   272.1859 Training Accuracy: 0.763514\n",
      "Validation Loss:  1209.1666 Validation Accuracy: 0.418600\n",
      "Epoch 19, CIFAR-10 Batch 1:  Training Loss:    62.7278 Training Accuracy: 0.871622\n",
      "Validation Loss:   823.1366 Validation Accuracy: 0.486200\n",
      "Epoch 20, CIFAR-10 Batch 1:  Training Loss:    43.8253 Training Accuracy: 0.915541\n",
      "Validation Loss:   781.3444 Validation Accuracy: 0.470800\n",
      "Epoch 21, CIFAR-10 Batch 1:  Training Loss:    47.5224 Training Accuracy: 0.915541\n",
      "Validation Loss:   830.0513 Validation Accuracy: 0.463400\n",
      "Epoch 22, CIFAR-10 Batch 1:  Training Loss:    66.0668 Training Accuracy: 0.898649\n",
      "Validation Loss:   870.7639 Validation Accuracy: 0.454600\n",
      "Epoch 23, CIFAR-10 Batch 1:  Training Loss:    78.1622 Training Accuracy: 0.864865\n",
      "Validation Loss:   957.8495 Validation Accuracy: 0.429200\n",
      "Epoch 24, CIFAR-10 Batch 1:  Training Loss:    18.0400 Training Accuracy: 0.952703\n",
      "Validation Loss:   786.3007 Validation Accuracy: 0.476200\n",
      "Epoch 25, CIFAR-10 Batch 1:  Training Loss:    23.4825 Training Accuracy: 0.945946\n",
      "Validation Loss:   771.7822 Validation Accuracy: 0.501800\n"
     ]
    }
   ],
   "source": [
    "\"\"\"\n",
    "DON'T MODIFY ANYTHING IN THIS CELL\n",
    "\"\"\"\n",
    "print('Checking the Training on a Single Batch...')\n",
    "with tf.Session() as sess:\n",
    "    # Initializing the variables\n",
    "    sess.run(tf.global_variables_initializer())\n",
    "    \n",
    "    # Training cycle\n",
    "    for epoch in range(epochs):\n",
    "        batch_i = 1\n",
    "        for batch_features, batch_labels in helper.load_preprocess_training_batch(batch_i, batch_size):\n",
    "            train_neural_network(sess, optimizer, keep_probability, batch_features, batch_labels)\n",
    "        print('Epoch {:>2}, CIFAR-10 Batch {}:  '.format(epoch + 1, batch_i), end='')\n",
    "        print_stats(sess, batch_features, batch_labels, cost, accuracy)     "
   ]
  },
  {
   "cell_type": "markdown",
   "metadata": {},
   "source": [
    "### Fully Train the Model\n",
    "Now that you got a good accuracy with a single CIFAR-10 batch, try it with all five batches."
   ]
  },
  {
   "cell_type": "code",
   "execution_count": 28,
   "metadata": {},
   "outputs": [
    {
     "name": "stdout",
     "output_type": "stream",
     "text": [
      "Training...\n",
      "Epoch  1, CIFAR-10 Batch 1:  Training Loss: 25176.7871 Training Accuracy: 0.212838\n",
      "Validation Loss: 25087.3496 Validation Accuracy: 0.184400\n",
      "Epoch  1, CIFAR-10 Batch 2:  Training Loss:  5206.5273 Training Accuracy: 0.304054\n",
      "Validation Loss:  5337.5986 Validation Accuracy: 0.293600\n",
      "Epoch  1, CIFAR-10 Batch 3:  Training Loss:  2238.3420 Training Accuracy: 0.391892\n",
      "Validation Loss:  2581.8125 Validation Accuracy: 0.366000\n",
      "Epoch  1, CIFAR-10 Batch 4:  Training Loss:   963.7286 Training Accuracy: 0.489865\n",
      "Validation Loss:  1197.1738 Validation Accuracy: 0.424600\n",
      "Epoch  1, CIFAR-10 Batch 5:  Training Loss:   672.5928 Training Accuracy: 0.479730\n",
      "Validation Loss:   687.2519 Validation Accuracy: 0.467200\n",
      "Epoch  2, CIFAR-10 Batch 1:  Training Loss:  1828.3315 Training Accuracy: 0.236486\n",
      "Validation Loss:  1814.9865 Validation Accuracy: 0.228000\n",
      "Epoch  2, CIFAR-10 Batch 2:  Training Loss:   841.6529 Training Accuracy: 0.500000\n",
      "Validation Loss:  1010.5184 Validation Accuracy: 0.403600\n",
      "Epoch  2, CIFAR-10 Batch 3:  Training Loss:   382.8661 Training Accuracy: 0.540541\n",
      "Validation Loss:   483.5857 Validation Accuracy: 0.485600\n",
      "Epoch  2, CIFAR-10 Batch 4:  Training Loss:   299.0654 Training Accuracy: 0.543919\n",
      "Validation Loss:   414.3868 Validation Accuracy: 0.478200\n",
      "Epoch  2, CIFAR-10 Batch 5:  Training Loss:   368.4249 Training Accuracy: 0.547297\n",
      "Validation Loss:   459.7789 Validation Accuracy: 0.463800\n",
      "Epoch  3, CIFAR-10 Batch 1:  Training Loss:   859.7675 Training Accuracy: 0.385135\n",
      "Validation Loss:   887.5630 Validation Accuracy: 0.335800\n",
      "Epoch  3, CIFAR-10 Batch 2:  Training Loss:   368.1728 Training Accuracy: 0.543919\n",
      "Validation Loss:   527.9329 Validation Accuracy: 0.456200\n",
      "Epoch  3, CIFAR-10 Batch 3:  Training Loss:   160.6282 Training Accuracy: 0.621622\n",
      "Validation Loss:   283.7066 Validation Accuracy: 0.528600\n",
      "Epoch  3, CIFAR-10 Batch 4:  Training Loss:   150.1507 Training Accuracy: 0.618243\n",
      "Validation Loss:   259.4392 Validation Accuracy: 0.525000\n",
      "Epoch  3, CIFAR-10 Batch 5:  Training Loss:   105.3137 Training Accuracy: 0.679054\n",
      "Validation Loss:   200.8551 Validation Accuracy: 0.550800\n",
      "Epoch  4, CIFAR-10 Batch 1:  Training Loss:   136.7802 Training Accuracy: 0.648649\n",
      "Validation Loss:   206.7342 Validation Accuracy: 0.526200\n",
      "Epoch  4, CIFAR-10 Batch 2:  Training Loss:   136.4127 Training Accuracy: 0.625000\n",
      "Validation Loss:   277.8766 Validation Accuracy: 0.462000\n",
      "Epoch  4, CIFAR-10 Batch 3:  Training Loss:    95.3895 Training Accuracy: 0.641892\n",
      "Validation Loss:   221.7807 Validation Accuracy: 0.504400\n",
      "Epoch  4, CIFAR-10 Batch 4:  Training Loss:    72.2678 Training Accuracy: 0.689189\n",
      "Validation Loss:   183.3665 Validation Accuracy: 0.538800\n",
      "Epoch  4, CIFAR-10 Batch 5:  Training Loss:   147.5627 Training Accuracy: 0.618243\n",
      "Validation Loss:   284.7287 Validation Accuracy: 0.457800\n",
      "Epoch  5, CIFAR-10 Batch 1:  Training Loss:   143.9416 Training Accuracy: 0.648649\n",
      "Validation Loss:   280.7013 Validation Accuracy: 0.460600\n",
      "Epoch  5, CIFAR-10 Batch 2:  Training Loss:    68.8961 Training Accuracy: 0.702703\n",
      "Validation Loss:   185.3915 Validation Accuracy: 0.547400\n",
      "Epoch  5, CIFAR-10 Batch 3:  Training Loss:    43.5996 Training Accuracy: 0.766892\n",
      "Validation Loss:   195.4406 Validation Accuracy: 0.517600\n",
      "Epoch  5, CIFAR-10 Batch 4:  Training Loss:    44.0114 Training Accuracy: 0.787162\n",
      "Validation Loss:   167.0330 Validation Accuracy: 0.541800\n",
      "Epoch  5, CIFAR-10 Batch 5:  Training Loss:    93.7726 Training Accuracy: 0.648649\n",
      "Validation Loss:   229.9291 Validation Accuracy: 0.488800\n",
      "Epoch  6, CIFAR-10 Batch 1:  Training Loss:   121.8071 Training Accuracy: 0.631757\n",
      "Validation Loss:   295.8260 Validation Accuracy: 0.443000\n",
      "Epoch  6, CIFAR-10 Batch 2:  Training Loss:    92.9085 Training Accuracy: 0.652027\n",
      "Validation Loss:   236.4834 Validation Accuracy: 0.435800\n",
      "Epoch  6, CIFAR-10 Batch 3:  Training Loss:    61.8217 Training Accuracy: 0.712838\n",
      "Validation Loss:   203.4828 Validation Accuracy: 0.485000\n",
      "Epoch  6, CIFAR-10 Batch 4:  Training Loss:    37.0573 Training Accuracy: 0.783784\n",
      "Validation Loss:   160.9143 Validation Accuracy: 0.529800\n",
      "Epoch  6, CIFAR-10 Batch 5:  Training Loss:    35.5827 Training Accuracy: 0.783784\n",
      "Validation Loss:   156.2630 Validation Accuracy: 0.528800\n",
      "Epoch  7, CIFAR-10 Batch 1:  Training Loss:    30.5243 Training Accuracy: 0.797297\n",
      "Validation Loss:   152.9649 Validation Accuracy: 0.512800\n",
      "Epoch  7, CIFAR-10 Batch 2:  Training Loss:    91.7809 Training Accuracy: 0.608108\n",
      "Validation Loss:   266.3174 Validation Accuracy: 0.392200\n",
      "Epoch  7, CIFAR-10 Batch 3:  Training Loss:    38.2717 Training Accuracy: 0.739865\n",
      "Validation Loss:   177.2128 Validation Accuracy: 0.491800\n",
      "Epoch  7, CIFAR-10 Batch 4:  Training Loss:    24.3440 Training Accuracy: 0.844595\n",
      "Validation Loss:   146.9768 Validation Accuracy: 0.539000\n",
      "Epoch  7, CIFAR-10 Batch 5:  Training Loss:    21.5628 Training Accuracy: 0.814189\n",
      "Validation Loss:   125.0811 Validation Accuracy: 0.559800\n",
      "Epoch  8, CIFAR-10 Batch 1:  Training Loss:    45.5266 Training Accuracy: 0.722973\n",
      "Validation Loss:   176.6379 Validation Accuracy: 0.458000\n",
      "Epoch  8, CIFAR-10 Batch 2:  Training Loss:    46.9570 Training Accuracy: 0.719595\n",
      "Validation Loss:   192.0961 Validation Accuracy: 0.454400\n",
      "Epoch  8, CIFAR-10 Batch 3:  Training Loss:    22.4608 Training Accuracy: 0.824324\n",
      "Validation Loss:   143.2331 Validation Accuracy: 0.506600\n",
      "Epoch  8, CIFAR-10 Batch 4:  Training Loss:    23.8903 Training Accuracy: 0.820946\n",
      "Validation Loss:   145.1709 Validation Accuracy: 0.520800\n",
      "Epoch  8, CIFAR-10 Batch 5:  Training Loss:    26.5816 Training Accuracy: 0.800676\n",
      "Validation Loss:   143.9864 Validation Accuracy: 0.519400\n",
      "Epoch  9, CIFAR-10 Batch 1:  Training Loss:    16.2072 Training Accuracy: 0.858108\n",
      "Validation Loss:   123.6989 Validation Accuracy: 0.518000\n",
      "Epoch  9, CIFAR-10 Batch 2:  Training Loss:    19.1761 Training Accuracy: 0.868243\n",
      "Validation Loss:   147.6278 Validation Accuracy: 0.515800\n",
      "Epoch  9, CIFAR-10 Batch 3:  Training Loss:    22.7620 Training Accuracy: 0.847973\n",
      "Validation Loss:   156.5174 Validation Accuracy: 0.507400\n",
      "Epoch  9, CIFAR-10 Batch 4:  Training Loss:    21.5994 Training Accuracy: 0.827703\n",
      "Validation Loss:   132.1290 Validation Accuracy: 0.508200\n",
      "Epoch  9, CIFAR-10 Batch 5:  Training Loss:    12.3980 Training Accuracy: 0.864865\n",
      "Validation Loss:   120.1060 Validation Accuracy: 0.549800\n",
      "Epoch 10, CIFAR-10 Batch 1:  Training Loss:    19.6687 Training Accuracy: 0.837838\n",
      "Validation Loss:   134.8657 Validation Accuracy: 0.525000\n",
      "Epoch 10, CIFAR-10 Batch 2:  Training Loss:    19.0943 Training Accuracy: 0.871622\n",
      "Validation Loss:   159.3014 Validation Accuracy: 0.515200\n",
      "Epoch 10, CIFAR-10 Batch 3:  Training Loss:    35.2677 Training Accuracy: 0.766892\n",
      "Validation Loss:   166.8515 Validation Accuracy: 0.484000\n",
      "Epoch 10, CIFAR-10 Batch 4:  Training Loss:    12.1302 Training Accuracy: 0.847973\n",
      "Validation Loss:   134.9378 Validation Accuracy: 0.511400\n",
      "Epoch 10, CIFAR-10 Batch 5:  Training Loss:     7.0723 Training Accuracy: 0.902027\n",
      "Validation Loss:   109.3259 Validation Accuracy: 0.556800\n",
      "Epoch 11, CIFAR-10 Batch 1:  Training Loss:    13.8360 Training Accuracy: 0.854730\n",
      "Validation Loss:   129.1864 Validation Accuracy: 0.516600\n",
      "Epoch 11, CIFAR-10 Batch 2:  Training Loss:     7.6768 Training Accuracy: 0.875000\n",
      "Validation Loss:   125.8954 Validation Accuracy: 0.530000\n",
      "Epoch 11, CIFAR-10 Batch 3:  Training Loss:     5.5642 Training Accuracy: 0.925676\n",
      "Validation Loss:   117.4209 Validation Accuracy: 0.551200\n",
      "Epoch 11, CIFAR-10 Batch 4:  Training Loss:    10.3047 Training Accuracy: 0.881757\n",
      "Validation Loss:   119.6117 Validation Accuracy: 0.529600\n",
      "Epoch 11, CIFAR-10 Batch 5:  Training Loss:     3.1009 Training Accuracy: 0.908784\n",
      "Validation Loss:   103.6065 Validation Accuracy: 0.550000\n",
      "Epoch 12, CIFAR-10 Batch 1:  Training Loss:     6.9919 Training Accuracy: 0.898649\n",
      "Validation Loss:   116.1164 Validation Accuracy: 0.512800\n",
      "Epoch 12, CIFAR-10 Batch 2:  Training Loss:    21.1899 Training Accuracy: 0.824324\n",
      "Validation Loss:   136.8506 Validation Accuracy: 0.505400\n",
      "Epoch 12, CIFAR-10 Batch 3:  Training Loss:    13.5579 Training Accuracy: 0.844595\n",
      "Validation Loss:   136.9694 Validation Accuracy: 0.506800\n"
     ]
    },
    {
     "name": "stdout",
     "output_type": "stream",
     "text": [
      "Epoch 12, CIFAR-10 Batch 4:  Training Loss:     5.9788 Training Accuracy: 0.905405\n",
      "Validation Loss:   113.4213 Validation Accuracy: 0.528200\n",
      "Epoch 12, CIFAR-10 Batch 5:  Training Loss:     8.9108 Training Accuracy: 0.868243\n",
      "Validation Loss:   118.0542 Validation Accuracy: 0.514800\n",
      "Epoch 13, CIFAR-10 Batch 1:  Training Loss:     8.9246 Training Accuracy: 0.885135\n",
      "Validation Loss:   104.8761 Validation Accuracy: 0.545800\n",
      "Epoch 13, CIFAR-10 Batch 2:  Training Loss:     8.6912 Training Accuracy: 0.837838\n",
      "Validation Loss:   124.4195 Validation Accuracy: 0.493000\n",
      "Epoch 13, CIFAR-10 Batch 3:  Training Loss:    10.1046 Training Accuracy: 0.878378\n",
      "Validation Loss:   133.2961 Validation Accuracy: 0.502000\n",
      "Epoch 13, CIFAR-10 Batch 4:  Training Loss:    17.4499 Training Accuracy: 0.804054\n",
      "Validation Loss:   138.6742 Validation Accuracy: 0.486600\n",
      "Epoch 13, CIFAR-10 Batch 5:  Training Loss:    12.0414 Training Accuracy: 0.837838\n",
      "Validation Loss:   130.2867 Validation Accuracy: 0.512400\n",
      "Epoch 14, CIFAR-10 Batch 1:  Training Loss:     6.2737 Training Accuracy: 0.895270\n",
      "Validation Loss:   107.4051 Validation Accuracy: 0.526800\n",
      "Epoch 14, CIFAR-10 Batch 2:  Training Loss:     3.7473 Training Accuracy: 0.915541\n",
      "Validation Loss:   111.6842 Validation Accuracy: 0.500000\n",
      "Epoch 14, CIFAR-10 Batch 3:  Training Loss:    16.7450 Training Accuracy: 0.858108\n",
      "Validation Loss:   131.4145 Validation Accuracy: 0.496800\n",
      "Epoch 14, CIFAR-10 Batch 4:  Training Loss:     5.6505 Training Accuracy: 0.918919\n",
      "Validation Loss:   111.7095 Validation Accuracy: 0.531800\n",
      "Epoch 14, CIFAR-10 Batch 5:  Training Loss:     2.7275 Training Accuracy: 0.922297\n",
      "Validation Loss:   105.5561 Validation Accuracy: 0.536600\n",
      "Epoch 15, CIFAR-10 Batch 1:  Training Loss:     6.5720 Training Accuracy: 0.891892\n",
      "Validation Loss:   108.6029 Validation Accuracy: 0.521600\n",
      "Epoch 15, CIFAR-10 Batch 2:  Training Loss:     5.8629 Training Accuracy: 0.871622\n",
      "Validation Loss:   111.9540 Validation Accuracy: 0.523600\n",
      "Epoch 15, CIFAR-10 Batch 3:  Training Loss:     3.5580 Training Accuracy: 0.942568\n",
      "Validation Loss:   109.3354 Validation Accuracy: 0.529600\n",
      "Epoch 15, CIFAR-10 Batch 4:  Training Loss:     5.5141 Training Accuracy: 0.905405\n",
      "Validation Loss:   111.6874 Validation Accuracy: 0.533400\n",
      "Epoch 15, CIFAR-10 Batch 5:  Training Loss:     0.9888 Training Accuracy: 0.969595\n",
      "Validation Loss:   101.2053 Validation Accuracy: 0.538200\n",
      "Epoch 16, CIFAR-10 Batch 1:  Training Loss:     9.0508 Training Accuracy: 0.871622\n",
      "Validation Loss:   112.1658 Validation Accuracy: 0.498800\n",
      "Epoch 16, CIFAR-10 Batch 2:  Training Loss:     6.6738 Training Accuracy: 0.878378\n",
      "Validation Loss:   110.3773 Validation Accuracy: 0.523600\n",
      "Epoch 16, CIFAR-10 Batch 3:  Training Loss:     3.3430 Training Accuracy: 0.945946\n",
      "Validation Loss:   110.3431 Validation Accuracy: 0.522200\n",
      "Epoch 16, CIFAR-10 Batch 4:  Training Loss:     3.8299 Training Accuracy: 0.929054\n",
      "Validation Loss:   111.8381 Validation Accuracy: 0.526400\n",
      "Epoch 16, CIFAR-10 Batch 5:  Training Loss:     1.2946 Training Accuracy: 0.952703\n",
      "Validation Loss:   107.6032 Validation Accuracy: 0.535200\n",
      "Epoch 17, CIFAR-10 Batch 1:  Training Loss:     3.2087 Training Accuracy: 0.945946\n",
      "Validation Loss:   102.6347 Validation Accuracy: 0.526200\n",
      "Epoch 17, CIFAR-10 Batch 2:  Training Loss:     2.8088 Training Accuracy: 0.956081\n",
      "Validation Loss:   104.7640 Validation Accuracy: 0.530400\n",
      "Epoch 17, CIFAR-10 Batch 3:  Training Loss:     2.3057 Training Accuracy: 0.935811\n",
      "Validation Loss:   105.2518 Validation Accuracy: 0.529800\n",
      "Epoch 17, CIFAR-10 Batch 4:  Training Loss:     2.5493 Training Accuracy: 0.942568\n",
      "Validation Loss:   108.7836 Validation Accuracy: 0.519800\n",
      "Epoch 17, CIFAR-10 Batch 5:  Training Loss:     3.0781 Training Accuracy: 0.932432\n",
      "Validation Loss:   111.7762 Validation Accuracy: 0.524400\n",
      "Epoch 18, CIFAR-10 Batch 1:  Training Loss:     2.8546 Training Accuracy: 0.929054\n",
      "Validation Loss:   106.7413 Validation Accuracy: 0.515400\n",
      "Epoch 18, CIFAR-10 Batch 2:  Training Loss:     2.1639 Training Accuracy: 0.942568\n",
      "Validation Loss:   109.2402 Validation Accuracy: 0.512600\n",
      "Epoch 18, CIFAR-10 Batch 3:  Training Loss:     0.9173 Training Accuracy: 0.959459\n",
      "Validation Loss:   105.3892 Validation Accuracy: 0.532200\n",
      "Epoch 18, CIFAR-10 Batch 4:  Training Loss:     1.9358 Training Accuracy: 0.956081\n",
      "Validation Loss:   111.5596 Validation Accuracy: 0.522000\n",
      "Epoch 18, CIFAR-10 Batch 5:  Training Loss:     3.5185 Training Accuracy: 0.932432\n",
      "Validation Loss:   109.4979 Validation Accuracy: 0.528000\n",
      "Epoch 19, CIFAR-10 Batch 1:  Training Loss:     3.7874 Training Accuracy: 0.925676\n",
      "Validation Loss:   109.2859 Validation Accuracy: 0.515800\n",
      "Epoch 19, CIFAR-10 Batch 2:  Training Loss:     1.7672 Training Accuracy: 0.939189\n",
      "Validation Loss:   112.9972 Validation Accuracy: 0.504800\n",
      "Epoch 19, CIFAR-10 Batch 3:  Training Loss:     0.5467 Training Accuracy: 0.972973\n",
      "Validation Loss:   107.3025 Validation Accuracy: 0.517800\n",
      "Epoch 19, CIFAR-10 Batch 4:  Training Loss:     1.3462 Training Accuracy: 0.962838\n",
      "Validation Loss:   109.0946 Validation Accuracy: 0.529400\n",
      "Epoch 19, CIFAR-10 Batch 5:  Training Loss:     1.2371 Training Accuracy: 0.959459\n",
      "Validation Loss:   106.0979 Validation Accuracy: 0.528200\n",
      "Epoch 20, CIFAR-10 Batch 1:  Training Loss:     1.2176 Training Accuracy: 0.969595\n",
      "Validation Loss:   104.0554 Validation Accuracy: 0.535200\n",
      "Epoch 20, CIFAR-10 Batch 2:  Training Loss:     0.9744 Training Accuracy: 0.959459\n",
      "Validation Loss:   108.6936 Validation Accuracy: 0.514000\n",
      "Epoch 20, CIFAR-10 Batch 3:  Training Loss:     1.0764 Training Accuracy: 0.959459\n",
      "Validation Loss:   106.7664 Validation Accuracy: 0.521200\n",
      "Epoch 20, CIFAR-10 Batch 4:  Training Loss:     2.2067 Training Accuracy: 0.942568\n",
      "Validation Loss:   112.7417 Validation Accuracy: 0.512000\n",
      "Epoch 20, CIFAR-10 Batch 5:  Training Loss:     0.9025 Training Accuracy: 0.959459\n",
      "Validation Loss:   112.5584 Validation Accuracy: 0.524800\n",
      "Epoch 21, CIFAR-10 Batch 1:  Training Loss:     1.5019 Training Accuracy: 0.949324\n",
      "Validation Loss:   105.4668 Validation Accuracy: 0.533800\n",
      "Epoch 21, CIFAR-10 Batch 2:  Training Loss:     1.2560 Training Accuracy: 0.959459\n",
      "Validation Loss:   103.2283 Validation Accuracy: 0.527600\n",
      "Epoch 21, CIFAR-10 Batch 3:  Training Loss:     2.0173 Training Accuracy: 0.935811\n",
      "Validation Loss:   114.2739 Validation Accuracy: 0.496800\n",
      "Epoch 21, CIFAR-10 Batch 4:  Training Loss:     0.9044 Training Accuracy: 0.976351\n",
      "Validation Loss:   107.0707 Validation Accuracy: 0.528200\n",
      "Epoch 21, CIFAR-10 Batch 5:  Training Loss:     3.4320 Training Accuracy: 0.922297\n",
      "Validation Loss:   112.1681 Validation Accuracy: 0.512800\n",
      "Epoch 22, CIFAR-10 Batch 1:  Training Loss:     4.1916 Training Accuracy: 0.915541\n",
      "Validation Loss:   113.4658 Validation Accuracy: 0.506000\n",
      "Epoch 22, CIFAR-10 Batch 2:  Training Loss:     1.1290 Training Accuracy: 0.956081\n",
      "Validation Loss:   110.5412 Validation Accuracy: 0.520200\n",
      "Epoch 22, CIFAR-10 Batch 3:  Training Loss:     2.8934 Training Accuracy: 0.945946\n",
      "Validation Loss:   112.2054 Validation Accuracy: 0.498200\n",
      "Epoch 22, CIFAR-10 Batch 4:  Training Loss:     1.9010 Training Accuracy: 0.959459\n",
      "Validation Loss:   110.9364 Validation Accuracy: 0.520600\n",
      "Epoch 22, CIFAR-10 Batch 5:  Training Loss:     2.1631 Training Accuracy: 0.956081\n",
      "Validation Loss:   110.1120 Validation Accuracy: 0.512400\n",
      "Epoch 23, CIFAR-10 Batch 1:  Training Loss:     1.1788 Training Accuracy: 0.945946\n",
      "Validation Loss:   114.0299 Validation Accuracy: 0.506000\n",
      "Epoch 23, CIFAR-10 Batch 2:  Training Loss:     3.4437 Training Accuracy: 0.939189\n",
      "Validation Loss:   118.3001 Validation Accuracy: 0.498600\n",
      "Epoch 23, CIFAR-10 Batch 3:  Training Loss:     2.7294 Training Accuracy: 0.932432\n",
      "Validation Loss:   114.0970 Validation Accuracy: 0.506400\n",
      "Epoch 23, CIFAR-10 Batch 4:  Training Loss:     1.6870 Training Accuracy: 0.929054\n",
      "Validation Loss:   119.7222 Validation Accuracy: 0.503000\n",
      "Epoch 23, CIFAR-10 Batch 5:  Training Loss:     0.9371 Training Accuracy: 0.969595\n",
      "Validation Loss:   110.7531 Validation Accuracy: 0.526800\n",
      "Epoch 24, CIFAR-10 Batch 1:  Training Loss:     1.9653 Training Accuracy: 0.956081\n",
      "Validation Loss:   108.5428 Validation Accuracy: 0.523000\n"
     ]
    },
    {
     "name": "stdout",
     "output_type": "stream",
     "text": [
      "Epoch 24, CIFAR-10 Batch 2:  Training Loss:     0.5745 Training Accuracy: 0.969595\n",
      "Validation Loss:   104.3775 Validation Accuracy: 0.533600\n",
      "Epoch 24, CIFAR-10 Batch 3:  Training Loss:     0.8756 Training Accuracy: 0.969595\n",
      "Validation Loss:   107.4156 Validation Accuracy: 0.524000\n",
      "Epoch 24, CIFAR-10 Batch 4:  Training Loss:     1.1984 Training Accuracy: 0.966216\n",
      "Validation Loss:   115.4609 Validation Accuracy: 0.507200\n",
      "Epoch 24, CIFAR-10 Batch 5:  Training Loss:     1.0719 Training Accuracy: 0.962838\n",
      "Validation Loss:   115.4647 Validation Accuracy: 0.514800\n",
      "Epoch 25, CIFAR-10 Batch 1:  Training Loss:     0.2160 Training Accuracy: 0.969595\n",
      "Validation Loss:   107.5621 Validation Accuracy: 0.529800\n",
      "Epoch 25, CIFAR-10 Batch 2:  Training Loss:     0.4914 Training Accuracy: 0.979730\n",
      "Validation Loss:   104.2978 Validation Accuracy: 0.534600\n",
      "Epoch 25, CIFAR-10 Batch 3:  Training Loss:     1.0050 Training Accuracy: 0.966216\n",
      "Validation Loss:   110.3821 Validation Accuracy: 0.503200\n",
      "Epoch 25, CIFAR-10 Batch 4:  Training Loss:     0.8429 Training Accuracy: 0.966216\n",
      "Validation Loss:   114.3619 Validation Accuracy: 0.509200\n",
      "Epoch 25, CIFAR-10 Batch 5:  Training Loss:     0.5060 Training Accuracy: 0.976351\n",
      "Validation Loss:   115.4145 Validation Accuracy: 0.510400\n"
     ]
    }
   ],
   "source": [
    "\"\"\"\n",
    "DON'T MODIFY ANYTHING IN THIS CELL\n",
    "\"\"\"\n",
    "save_model_path = './image_classification'\n",
    "\n",
    "print('Training...')\n",
    "with tf.Session() as sess:\n",
    "    # Initializing the variables\n",
    "    sess.run(tf.global_variables_initializer())\n",
    "    \n",
    "    # Training cycle\n",
    "    for epoch in range(epochs):\n",
    "        # Loop over all batches\n",
    "        n_batches = 5\n",
    "        for batch_i in range(1, n_batches + 1):\n",
    "            for batch_features, batch_labels in helper.load_preprocess_training_batch(batch_i, batch_size):\n",
    "                train_neural_network(sess, optimizer, keep_probability, batch_features, batch_labels)\n",
    "            print('Epoch {:>2}, CIFAR-10 Batch {}:  '.format(epoch + 1, batch_i), end='')\n",
    "            print_stats(sess, batch_features, batch_labels, cost, accuracy)\n",
    "            \n",
    "    # Save Model\n",
    "    saver = tf.train.Saver()\n",
    "    save_path = saver.save(sess, save_model_path)"
   ]
  },
  {
   "cell_type": "markdown",
   "metadata": {},
   "source": [
    "# Checkpoint\n",
    "The model has been saved to disk.\n",
    "## Test Model\n",
    "Test your model against the test dataset.  This will be your final accuracy. You should have an accuracy greater than 50%. If you don't, keep tweaking the model architecture and parameters."
   ]
  },
  {
   "cell_type": "code",
   "execution_count": 29,
   "metadata": {},
   "outputs": [
    {
     "name": "stdout",
     "output_type": "stream",
     "text": [
      "INFO:tensorflow:Restoring parameters from ./image_classification\n",
      "Testing Accuracy: 0.5142520666122437\n",
      "\n"
     ]
    },
    {
     "data": {
      "image/png": "[encoded data removed]",
      "text/plain": [
       "<matplotlib.figure.Figure at 0x10aa89ed8d0>"
      ]
     },
     "metadata": {
      "image/png": {
       "height": 319,
       "width": 349
      }
     },
     "output_type": "display_data"
    }
   ],
   "source": [
    "\"\"\"\n",
    "DON'T MODIFY ANYTHING IN THIS CELL\n",
    "\"\"\"\n",
    "%matplotlib inline\n",
    "%config InlineBackend.figure_format = 'retina'\n",
    "\n",
    "import tensorflow as tf\n",
    "import pickle\n",
    "import helper\n",
    "import random\n",
    "\n",
    "# Set batch size if not already set\n",
    "try:\n",
    "    if batch_size:\n",
    "        pass\n",
    "except NameError:\n",
    "    batch_size = 64\n",
    "\n",
    "save_model_path = './image_classification'\n",
    "n_samples = 4\n",
    "top_n_predictions = 3\n",
    "\n",
    "def test_model():\n",
    "    \"\"\"\n",
    "    Test the saved model against the test dataset\n",
    "    \"\"\"\n",
    "\n",
    "    test_features, test_labels = pickle.load(open('preprocess_test.p', mode='rb'))\n",
    "    loaded_graph = tf.Graph()\n",
    "\n",
    "    with tf.Session(graph=loaded_graph) as sess:\n",
    "        # Load model\n",
    "        loader = tf.train.import_meta_graph(save_model_path + '.meta')\n",
    "        loader.restore(sess, save_model_path)\n",
    "\n",
    "        # Get Tensors from loaded model\n",
    "        loaded_x = loaded_graph.get_tensor_by_name('x:0')\n",
    "        loaded_y = loaded_graph.get_tensor_by_name('y:0')\n",
    "        loaded_keep_prob = loaded_graph.get_tensor_by_name('keep_prob:0')\n",
    "        loaded_logits = loaded_graph.get_tensor_by_name('logits:0')\n",
    "        loaded_acc = loaded_graph.get_tensor_by_name('accuracy:0')\n",
    "        \n",
    "        # Get accuracy in batches for memory limitations\n",
    "        test_batch_acc_total = 0\n",
    "        test_batch_count = 0\n",
    "        \n",
    "        for test_feature_batch, test_label_batch in helper.batch_features_labels(test_features, test_labels, batch_size):\n",
    "            test_batch_acc_total += sess.run(\n",
    "                loaded_acc,\n",
    "                feed_dict={loaded_x: test_feature_batch, loaded_y: test_label_batch, loaded_keep_prob: 1.0})\n",
    "            test_batch_count += 1\n",
    "\n",
    "        print('Testing Accuracy: {}\\n'.format(test_batch_acc_total/test_batch_count))\n",
    "\n",
    "        # Print Random Samples\n",
    "        random_test_features, random_test_labels = tuple(zip(*random.sample(list(zip(test_features, test_labels)), n_samples)))\n",
    "        random_test_predictions = sess.run(\n",
    "            tf.nn.top_k(tf.nn.softmax(loaded_logits), top_n_predictions),\n",
    "            feed_dict={loaded_x: random_test_features, loaded_y: random_test_labels, loaded_keep_prob: 1.0})\n",
    "        helper.display_image_predictions(random_test_features, random_test_labels, random_test_predictions)\n",
    "\n",
    "\n",
    "test_model()"
   ]
  },
  {
   "cell_type": "markdown",
   "metadata": {},
   "source": [
    "## Why 50-80% Accuracy?\n",
    "You might be wondering why you can't get an accuracy any higher. First things first, 50% isn't bad for a simple CNN.  Pure guessing would get you 10% accuracy. However, you might notice people are getting scores [well above 80%](http://rodrigob.github.io/are_we_there_yet/build/classification_datasets_results.html#43494641522d3130).  That's because we haven't taught you all there is to know about neural networks. We still need to cover a few more techniques.\n",
    "## Submitting This Project\n",
    "When submitting this project, make sure to run all the cells before saving the notebook.  Save the notebook file as \"dlnd_image_classification.ipynb\" and save it as a HTML file under \"File\" -> \"Download as\".  Include the \"helper.py\" and \"problem_unittests.py\" files in your submission."
   ]
  }
 ],
 "metadata": {
  "kernelspec": {
   "display_name": "Python 3",
   "language": "python",
   "name": "python3"
  },
  "language_info": {
   "codemirror_mode": {
    "name": "ipython",
    "version": 3
   },
   "file_extension": ".py",
   "mimetype": "text/x-python",
   "name": "python",
   "nbconvert_exporter": "python",
   "pygments_lexer": "ipython3",
   "version": "3.6.4"
  }
 },
 "nbformat": 4,
 "nbformat_minor": 1
}
